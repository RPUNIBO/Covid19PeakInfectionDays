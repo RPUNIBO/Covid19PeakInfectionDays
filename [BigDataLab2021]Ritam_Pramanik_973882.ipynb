{
  "cells": [
    {
      "cell_type": "code",
      "execution_count": 1,
      "id": "c284531f",
      "metadata": {
        "id": "c284531f"
      },
      "outputs": [],
      "source": [
        "import pandas as pd\n",
        "import matplotlib.pyplot as plt\n",
        "%matplotlib inline   "
      ]
    },
    {
      "cell_type": "code",
      "source": [
        "print(f\"Pandas version: {pd.__version__}\")"
      ],
      "metadata": {
        "colab": {
          "base_uri": "https://localhost:8080/"
        },
        "id": "EPupKHzLe7qT",
        "outputId": "6377b2e1-7f21-421c-ae46-ffacd1b41d4f"
      },
      "id": "EPupKHzLe7qT",
      "execution_count": 2,
      "outputs": [
        {
          "output_type": "stream",
          "name": "stdout",
          "text": [
            "Pandas version: 1.3.5\n"
          ]
        }
      ]
    },
    {
      "cell_type": "code",
      "source": [
        "from google.colab import drive\n",
        "drive.mount('/content/drive')"
      ],
      "metadata": {
        "colab": {
          "base_uri": "https://localhost:8080/"
        },
        "id": "01KqCEcb600Z",
        "outputId": "e01a2a3a-a241-41b9-cf5b-5aa85445dbc5"
      },
      "id": "01KqCEcb600Z",
      "execution_count": 3,
      "outputs": [
        {
          "output_type": "stream",
          "name": "stdout",
          "text": [
            "Mounted at /content/drive\n"
          ]
        }
      ]
    },
    {
      "cell_type": "code",
      "execution_count": 4,
      "id": "bc8a61a1",
      "metadata": {
        "id": "bc8a61a1"
      },
      "outputs": [],
      "source": [
        "covid = pd.read_csv('/content/drive/MyDrive/bda/COVID.csv')"
      ]
    },
    {
      "cell_type": "code",
      "execution_count": 5,
      "id": "1e3a33ec",
      "metadata": {
        "colab": {
          "base_uri": "https://localhost:8080/",
          "height": 374
        },
        "id": "1e3a33ec",
        "outputId": "ce42f638-ff54-439b-d4a6-ede90a02706c"
      },
      "outputs": [
        {
          "output_type": "execute_result",
          "data": {
            "text/plain": [
              "         Date iso3                  CountryName Region        lat         lon  \\\n",
              "0  2020-01-03  AIA                     Anguilla    NaN  18.225120  -63.072130   \n",
              "1  2020-01-03  DMA                     Dominica    NaN  15.416749  -61.364130   \n",
              "2  2020-01-03  DOM           Dominican Republic    NaN  18.736509  -70.161744   \n",
              "3  2020-01-03  FLK  Falkland Islands (Malvinas)    NaN -51.800581  -59.528839   \n",
              "4  2020-01-03  IDN                    Indonesia    NaN  -2.518722  118.015568   \n",
              "\n",
              "   CumulativePositive  CumulativeDeceased  CumulativeRecovered  \\\n",
              "0                 0.0                 0.0                  NaN   \n",
              "1                 0.0                 0.0                  NaN   \n",
              "2                 0.0                 0.0                  NaN   \n",
              "3                 0.0                 0.0                  NaN   \n",
              "4                 0.0                 0.0                  NaN   \n",
              "\n",
              "   CurrentlyPositive  Hospitalized  IntensiveCare  EUcountry  EUCPMcountry  \\\n",
              "0                  0           NaN            NaN      False         False   \n",
              "1                  0           NaN            NaN      False         False   \n",
              "2                  0           NaN            NaN      False         False   \n",
              "3                  0           NaN            NaN      False         False   \n",
              "4                  0           NaN            NaN      False         False   \n",
              "\n",
              "  NUTS  \n",
              "0   AI  \n",
              "1   DM  \n",
              "2   DO  \n",
              "3   FK  \n",
              "4   ID  "
            ],
            "text/html": [
              "\n",
              "  <div id=\"df-7c819b70-520d-4894-a4ff-5d51a63c3618\">\n",
              "    <div class=\"colab-df-container\">\n",
              "      <div>\n",
              "<style scoped>\n",
              "    .dataframe tbody tr th:only-of-type {\n",
              "        vertical-align: middle;\n",
              "    }\n",
              "\n",
              "    .dataframe tbody tr th {\n",
              "        vertical-align: top;\n",
              "    }\n",
              "\n",
              "    .dataframe thead th {\n",
              "        text-align: right;\n",
              "    }\n",
              "</style>\n",
              "<table border=\"1\" class=\"dataframe\">\n",
              "  <thead>\n",
              "    <tr style=\"text-align: right;\">\n",
              "      <th></th>\n",
              "      <th>Date</th>\n",
              "      <th>iso3</th>\n",
              "      <th>CountryName</th>\n",
              "      <th>Region</th>\n",
              "      <th>lat</th>\n",
              "      <th>lon</th>\n",
              "      <th>CumulativePositive</th>\n",
              "      <th>CumulativeDeceased</th>\n",
              "      <th>CumulativeRecovered</th>\n",
              "      <th>CurrentlyPositive</th>\n",
              "      <th>Hospitalized</th>\n",
              "      <th>IntensiveCare</th>\n",
              "      <th>EUcountry</th>\n",
              "      <th>EUCPMcountry</th>\n",
              "      <th>NUTS</th>\n",
              "    </tr>\n",
              "  </thead>\n",
              "  <tbody>\n",
              "    <tr>\n",
              "      <th>0</th>\n",
              "      <td>2020-01-03</td>\n",
              "      <td>AIA</td>\n",
              "      <td>Anguilla</td>\n",
              "      <td>NaN</td>\n",
              "      <td>18.225120</td>\n",
              "      <td>-63.072130</td>\n",
              "      <td>0.0</td>\n",
              "      <td>0.0</td>\n",
              "      <td>NaN</td>\n",
              "      <td>0</td>\n",
              "      <td>NaN</td>\n",
              "      <td>NaN</td>\n",
              "      <td>False</td>\n",
              "      <td>False</td>\n",
              "      <td>AI</td>\n",
              "    </tr>\n",
              "    <tr>\n",
              "      <th>1</th>\n",
              "      <td>2020-01-03</td>\n",
              "      <td>DMA</td>\n",
              "      <td>Dominica</td>\n",
              "      <td>NaN</td>\n",
              "      <td>15.416749</td>\n",
              "      <td>-61.364130</td>\n",
              "      <td>0.0</td>\n",
              "      <td>0.0</td>\n",
              "      <td>NaN</td>\n",
              "      <td>0</td>\n",
              "      <td>NaN</td>\n",
              "      <td>NaN</td>\n",
              "      <td>False</td>\n",
              "      <td>False</td>\n",
              "      <td>DM</td>\n",
              "    </tr>\n",
              "    <tr>\n",
              "      <th>2</th>\n",
              "      <td>2020-01-03</td>\n",
              "      <td>DOM</td>\n",
              "      <td>Dominican Republic</td>\n",
              "      <td>NaN</td>\n",
              "      <td>18.736509</td>\n",
              "      <td>-70.161744</td>\n",
              "      <td>0.0</td>\n",
              "      <td>0.0</td>\n",
              "      <td>NaN</td>\n",
              "      <td>0</td>\n",
              "      <td>NaN</td>\n",
              "      <td>NaN</td>\n",
              "      <td>False</td>\n",
              "      <td>False</td>\n",
              "      <td>DO</td>\n",
              "    </tr>\n",
              "    <tr>\n",
              "      <th>3</th>\n",
              "      <td>2020-01-03</td>\n",
              "      <td>FLK</td>\n",
              "      <td>Falkland Islands (Malvinas)</td>\n",
              "      <td>NaN</td>\n",
              "      <td>-51.800581</td>\n",
              "      <td>-59.528839</td>\n",
              "      <td>0.0</td>\n",
              "      <td>0.0</td>\n",
              "      <td>NaN</td>\n",
              "      <td>0</td>\n",
              "      <td>NaN</td>\n",
              "      <td>NaN</td>\n",
              "      <td>False</td>\n",
              "      <td>False</td>\n",
              "      <td>FK</td>\n",
              "    </tr>\n",
              "    <tr>\n",
              "      <th>4</th>\n",
              "      <td>2020-01-03</td>\n",
              "      <td>IDN</td>\n",
              "      <td>Indonesia</td>\n",
              "      <td>NaN</td>\n",
              "      <td>-2.518722</td>\n",
              "      <td>118.015568</td>\n",
              "      <td>0.0</td>\n",
              "      <td>0.0</td>\n",
              "      <td>NaN</td>\n",
              "      <td>0</td>\n",
              "      <td>NaN</td>\n",
              "      <td>NaN</td>\n",
              "      <td>False</td>\n",
              "      <td>False</td>\n",
              "      <td>ID</td>\n",
              "    </tr>\n",
              "  </tbody>\n",
              "</table>\n",
              "</div>\n",
              "      <button class=\"colab-df-convert\" onclick=\"convertToInteractive('df-7c819b70-520d-4894-a4ff-5d51a63c3618')\"\n",
              "              title=\"Convert this dataframe to an interactive table.\"\n",
              "              style=\"display:none;\">\n",
              "        \n",
              "  <svg xmlns=\"http://www.w3.org/2000/svg\" height=\"24px\"viewBox=\"0 0 24 24\"\n",
              "       width=\"24px\">\n",
              "    <path d=\"M0 0h24v24H0V0z\" fill=\"none\"/>\n",
              "    <path d=\"M18.56 5.44l.94 2.06.94-2.06 2.06-.94-2.06-.94-.94-2.06-.94 2.06-2.06.94zm-11 1L8.5 8.5l.94-2.06 2.06-.94-2.06-.94L8.5 2.5l-.94 2.06-2.06.94zm10 10l.94 2.06.94-2.06 2.06-.94-2.06-.94-.94-2.06-.94 2.06-2.06.94z\"/><path d=\"M17.41 7.96l-1.37-1.37c-.4-.4-.92-.59-1.43-.59-.52 0-1.04.2-1.43.59L10.3 9.45l-7.72 7.72c-.78.78-.78 2.05 0 2.83L4 21.41c.39.39.9.59 1.41.59.51 0 1.02-.2 1.41-.59l7.78-7.78 2.81-2.81c.8-.78.8-2.07 0-2.86zM5.41 20L4 18.59l7.72-7.72 1.47 1.35L5.41 20z\"/>\n",
              "  </svg>\n",
              "      </button>\n",
              "      \n",
              "  <style>\n",
              "    .colab-df-container {\n",
              "      display:flex;\n",
              "      flex-wrap:wrap;\n",
              "      gap: 12px;\n",
              "    }\n",
              "\n",
              "    .colab-df-convert {\n",
              "      background-color: #E8F0FE;\n",
              "      border: none;\n",
              "      border-radius: 50%;\n",
              "      cursor: pointer;\n",
              "      display: none;\n",
              "      fill: #1967D2;\n",
              "      height: 32px;\n",
              "      padding: 0 0 0 0;\n",
              "      width: 32px;\n",
              "    }\n",
              "\n",
              "    .colab-df-convert:hover {\n",
              "      background-color: #E2EBFA;\n",
              "      box-shadow: 0px 1px 2px rgba(60, 64, 67, 0.3), 0px 1px 3px 1px rgba(60, 64, 67, 0.15);\n",
              "      fill: #174EA6;\n",
              "    }\n",
              "\n",
              "    [theme=dark] .colab-df-convert {\n",
              "      background-color: #3B4455;\n",
              "      fill: #D2E3FC;\n",
              "    }\n",
              "\n",
              "    [theme=dark] .colab-df-convert:hover {\n",
              "      background-color: #434B5C;\n",
              "      box-shadow: 0px 1px 3px 1px rgba(0, 0, 0, 0.15);\n",
              "      filter: drop-shadow(0px 1px 2px rgba(0, 0, 0, 0.3));\n",
              "      fill: #FFFFFF;\n",
              "    }\n",
              "  </style>\n",
              "\n",
              "      <script>\n",
              "        const buttonEl =\n",
              "          document.querySelector('#df-7c819b70-520d-4894-a4ff-5d51a63c3618 button.colab-df-convert');\n",
              "        buttonEl.style.display =\n",
              "          google.colab.kernel.accessAllowed ? 'block' : 'none';\n",
              "\n",
              "        async function convertToInteractive(key) {\n",
              "          const element = document.querySelector('#df-7c819b70-520d-4894-a4ff-5d51a63c3618');\n",
              "          const dataTable =\n",
              "            await google.colab.kernel.invokeFunction('convertToInteractive',\n",
              "                                                     [key], {});\n",
              "          if (!dataTable) return;\n",
              "\n",
              "          const docLinkHtml = 'Like what you see? Visit the ' +\n",
              "            '<a target=\"_blank\" href=https://colab.research.google.com/notebooks/data_table.ipynb>data table notebook</a>'\n",
              "            + ' to learn more about interactive tables.';\n",
              "          element.innerHTML = '';\n",
              "          dataTable['output_type'] = 'display_data';\n",
              "          await google.colab.output.renderOutput(dataTable, element);\n",
              "          const docLink = document.createElement('div');\n",
              "          docLink.innerHTML = docLinkHtml;\n",
              "          element.appendChild(docLink);\n",
              "        }\n",
              "      </script>\n",
              "    </div>\n",
              "  </div>\n",
              "  "
            ]
          },
          "metadata": {},
          "execution_count": 5
        }
      ],
      "source": [
        "covid.head(5)"
      ]
    },
    {
      "cell_type": "markdown",
      "id": "d4110273",
      "metadata": {
        "id": "d4110273"
      },
      "source": [
        "# Python and Pandas, data exploration"
      ]
    },
    {
      "cell_type": "markdown",
      "source": [
        "# Select your home country from the covid dataset as a new df"
      ],
      "metadata": {
        "id": "N-3W_nt9LBLw"
      },
      "id": "N-3W_nt9LBLw"
    },
    {
      "cell_type": "code",
      "source": [
        "indiaData = covid.loc[covid['CountryName']=='India']\n",
        "indiaData.head(5)"
      ],
      "metadata": {
        "colab": {
          "base_uri": "https://localhost:8080/",
          "height": 357
        },
        "id": "qSSAhaEw9_Qh",
        "outputId": "beb4e030-0ffa-4f88-a72f-5be4cab57755"
      },
      "id": "qSSAhaEw9_Qh",
      "execution_count": 6,
      "outputs": [
        {
          "output_type": "execute_result",
          "data": {
            "text/plain": [
              "           Date iso3 CountryName Region        lat        lon  \\\n",
              "284  2020-01-30  IND       India    NaN  21.125681  82.794998   \n",
              "309  2020-01-31  IND       India    NaN  21.125681  82.794998   \n",
              "335  2020-02-01  IND       India    NaN  21.125681  82.794998   \n",
              "362  2020-02-02  IND       India    NaN  21.125681  82.794998   \n",
              "389  2020-02-03  IND       India    NaN  21.125681  82.794998   \n",
              "\n",
              "     CumulativePositive  CumulativeDeceased  CumulativeRecovered  \\\n",
              "284                 1.0                 0.0                  NaN   \n",
              "309                 5.0                 0.0                  NaN   \n",
              "335                 5.0                 0.0                  NaN   \n",
              "362                 2.0                 0.0                  NaN   \n",
              "389                 3.0                 0.0                  NaN   \n",
              "\n",
              "     CurrentlyPositive  Hospitalized  IntensiveCare  EUcountry  EUCPMcountry  \\\n",
              "284                  1           NaN            NaN      False         False   \n",
              "309                  5           NaN            NaN      False         False   \n",
              "335                  5           NaN            NaN      False         False   \n",
              "362                  2           NaN            NaN      False         False   \n",
              "389                  3           NaN            NaN      False         False   \n",
              "\n",
              "    NUTS  \n",
              "284   IN  \n",
              "309   IN  \n",
              "335   IN  \n",
              "362   IN  \n",
              "389   IN  "
            ],
            "text/html": [
              "\n",
              "  <div id=\"df-632891f6-572b-4d2f-ac35-5e039176d384\">\n",
              "    <div class=\"colab-df-container\">\n",
              "      <div>\n",
              "<style scoped>\n",
              "    .dataframe tbody tr th:only-of-type {\n",
              "        vertical-align: middle;\n",
              "    }\n",
              "\n",
              "    .dataframe tbody tr th {\n",
              "        vertical-align: top;\n",
              "    }\n",
              "\n",
              "    .dataframe thead th {\n",
              "        text-align: right;\n",
              "    }\n",
              "</style>\n",
              "<table border=\"1\" class=\"dataframe\">\n",
              "  <thead>\n",
              "    <tr style=\"text-align: right;\">\n",
              "      <th></th>\n",
              "      <th>Date</th>\n",
              "      <th>iso3</th>\n",
              "      <th>CountryName</th>\n",
              "      <th>Region</th>\n",
              "      <th>lat</th>\n",
              "      <th>lon</th>\n",
              "      <th>CumulativePositive</th>\n",
              "      <th>CumulativeDeceased</th>\n",
              "      <th>CumulativeRecovered</th>\n",
              "      <th>CurrentlyPositive</th>\n",
              "      <th>Hospitalized</th>\n",
              "      <th>IntensiveCare</th>\n",
              "      <th>EUcountry</th>\n",
              "      <th>EUCPMcountry</th>\n",
              "      <th>NUTS</th>\n",
              "    </tr>\n",
              "  </thead>\n",
              "  <tbody>\n",
              "    <tr>\n",
              "      <th>284</th>\n",
              "      <td>2020-01-30</td>\n",
              "      <td>IND</td>\n",
              "      <td>India</td>\n",
              "      <td>NaN</td>\n",
              "      <td>21.125681</td>\n",
              "      <td>82.794998</td>\n",
              "      <td>1.0</td>\n",
              "      <td>0.0</td>\n",
              "      <td>NaN</td>\n",
              "      <td>1</td>\n",
              "      <td>NaN</td>\n",
              "      <td>NaN</td>\n",
              "      <td>False</td>\n",
              "      <td>False</td>\n",
              "      <td>IN</td>\n",
              "    </tr>\n",
              "    <tr>\n",
              "      <th>309</th>\n",
              "      <td>2020-01-31</td>\n",
              "      <td>IND</td>\n",
              "      <td>India</td>\n",
              "      <td>NaN</td>\n",
              "      <td>21.125681</td>\n",
              "      <td>82.794998</td>\n",
              "      <td>5.0</td>\n",
              "      <td>0.0</td>\n",
              "      <td>NaN</td>\n",
              "      <td>5</td>\n",
              "      <td>NaN</td>\n",
              "      <td>NaN</td>\n",
              "      <td>False</td>\n",
              "      <td>False</td>\n",
              "      <td>IN</td>\n",
              "    </tr>\n",
              "    <tr>\n",
              "      <th>335</th>\n",
              "      <td>2020-02-01</td>\n",
              "      <td>IND</td>\n",
              "      <td>India</td>\n",
              "      <td>NaN</td>\n",
              "      <td>21.125681</td>\n",
              "      <td>82.794998</td>\n",
              "      <td>5.0</td>\n",
              "      <td>0.0</td>\n",
              "      <td>NaN</td>\n",
              "      <td>5</td>\n",
              "      <td>NaN</td>\n",
              "      <td>NaN</td>\n",
              "      <td>False</td>\n",
              "      <td>False</td>\n",
              "      <td>IN</td>\n",
              "    </tr>\n",
              "    <tr>\n",
              "      <th>362</th>\n",
              "      <td>2020-02-02</td>\n",
              "      <td>IND</td>\n",
              "      <td>India</td>\n",
              "      <td>NaN</td>\n",
              "      <td>21.125681</td>\n",
              "      <td>82.794998</td>\n",
              "      <td>2.0</td>\n",
              "      <td>0.0</td>\n",
              "      <td>NaN</td>\n",
              "      <td>2</td>\n",
              "      <td>NaN</td>\n",
              "      <td>NaN</td>\n",
              "      <td>False</td>\n",
              "      <td>False</td>\n",
              "      <td>IN</td>\n",
              "    </tr>\n",
              "    <tr>\n",
              "      <th>389</th>\n",
              "      <td>2020-02-03</td>\n",
              "      <td>IND</td>\n",
              "      <td>India</td>\n",
              "      <td>NaN</td>\n",
              "      <td>21.125681</td>\n",
              "      <td>82.794998</td>\n",
              "      <td>3.0</td>\n",
              "      <td>0.0</td>\n",
              "      <td>NaN</td>\n",
              "      <td>3</td>\n",
              "      <td>NaN</td>\n",
              "      <td>NaN</td>\n",
              "      <td>False</td>\n",
              "      <td>False</td>\n",
              "      <td>IN</td>\n",
              "    </tr>\n",
              "  </tbody>\n",
              "</table>\n",
              "</div>\n",
              "      <button class=\"colab-df-convert\" onclick=\"convertToInteractive('df-632891f6-572b-4d2f-ac35-5e039176d384')\"\n",
              "              title=\"Convert this dataframe to an interactive table.\"\n",
              "              style=\"display:none;\">\n",
              "        \n",
              "  <svg xmlns=\"http://www.w3.org/2000/svg\" height=\"24px\"viewBox=\"0 0 24 24\"\n",
              "       width=\"24px\">\n",
              "    <path d=\"M0 0h24v24H0V0z\" fill=\"none\"/>\n",
              "    <path d=\"M18.56 5.44l.94 2.06.94-2.06 2.06-.94-2.06-.94-.94-2.06-.94 2.06-2.06.94zm-11 1L8.5 8.5l.94-2.06 2.06-.94-2.06-.94L8.5 2.5l-.94 2.06-2.06.94zm10 10l.94 2.06.94-2.06 2.06-.94-2.06-.94-.94-2.06-.94 2.06-2.06.94z\"/><path d=\"M17.41 7.96l-1.37-1.37c-.4-.4-.92-.59-1.43-.59-.52 0-1.04.2-1.43.59L10.3 9.45l-7.72 7.72c-.78.78-.78 2.05 0 2.83L4 21.41c.39.39.9.59 1.41.59.51 0 1.02-.2 1.41-.59l7.78-7.78 2.81-2.81c.8-.78.8-2.07 0-2.86zM5.41 20L4 18.59l7.72-7.72 1.47 1.35L5.41 20z\"/>\n",
              "  </svg>\n",
              "      </button>\n",
              "      \n",
              "  <style>\n",
              "    .colab-df-container {\n",
              "      display:flex;\n",
              "      flex-wrap:wrap;\n",
              "      gap: 12px;\n",
              "    }\n",
              "\n",
              "    .colab-df-convert {\n",
              "      background-color: #E8F0FE;\n",
              "      border: none;\n",
              "      border-radius: 50%;\n",
              "      cursor: pointer;\n",
              "      display: none;\n",
              "      fill: #1967D2;\n",
              "      height: 32px;\n",
              "      padding: 0 0 0 0;\n",
              "      width: 32px;\n",
              "    }\n",
              "\n",
              "    .colab-df-convert:hover {\n",
              "      background-color: #E2EBFA;\n",
              "      box-shadow: 0px 1px 2px rgba(60, 64, 67, 0.3), 0px 1px 3px 1px rgba(60, 64, 67, 0.15);\n",
              "      fill: #174EA6;\n",
              "    }\n",
              "\n",
              "    [theme=dark] .colab-df-convert {\n",
              "      background-color: #3B4455;\n",
              "      fill: #D2E3FC;\n",
              "    }\n",
              "\n",
              "    [theme=dark] .colab-df-convert:hover {\n",
              "      background-color: #434B5C;\n",
              "      box-shadow: 0px 1px 3px 1px rgba(0, 0, 0, 0.15);\n",
              "      filter: drop-shadow(0px 1px 2px rgba(0, 0, 0, 0.3));\n",
              "      fill: #FFFFFF;\n",
              "    }\n",
              "  </style>\n",
              "\n",
              "      <script>\n",
              "        const buttonEl =\n",
              "          document.querySelector('#df-632891f6-572b-4d2f-ac35-5e039176d384 button.colab-df-convert');\n",
              "        buttonEl.style.display =\n",
              "          google.colab.kernel.accessAllowed ? 'block' : 'none';\n",
              "\n",
              "        async function convertToInteractive(key) {\n",
              "          const element = document.querySelector('#df-632891f6-572b-4d2f-ac35-5e039176d384');\n",
              "          const dataTable =\n",
              "            await google.colab.kernel.invokeFunction('convertToInteractive',\n",
              "                                                     [key], {});\n",
              "          if (!dataTable) return;\n",
              "\n",
              "          const docLinkHtml = 'Like what you see? Visit the ' +\n",
              "            '<a target=\"_blank\" href=https://colab.research.google.com/notebooks/data_table.ipynb>data table notebook</a>'\n",
              "            + ' to learn more about interactive tables.';\n",
              "          element.innerHTML = '';\n",
              "          dataTable['output_type'] = 'display_data';\n",
              "          await google.colab.output.renderOutput(dataTable, element);\n",
              "          const docLink = document.createElement('div');\n",
              "          docLink.innerHTML = docLinkHtml;\n",
              "          element.appendChild(docLink);\n",
              "        }\n",
              "      </script>\n",
              "    </div>\n",
              "  </div>\n",
              "  "
            ]
          },
          "metadata": {},
          "execution_count": 6
        }
      ]
    },
    {
      "cell_type": "markdown",
      "source": [
        "For India dataset, all data are recorded in the same location that is same Latitude and Longitude.\n",
        "There is no data for Cumulative Recovered, Hospitalized, IntensiveCare."
      ],
      "metadata": {
        "id": "rbgVT-sc5sKf"
      },
      "id": "rbgVT-sc5sKf"
    },
    {
      "cell_type": "code",
      "source": [
        "print(f'Cross-checking if other country exists:{indiaData.CountryName.unique()}')\n",
        "print(f'Cross-checking if any value present in column Region:{indiaData.Region.unique()}')\n",
        "print(f'Cross-checking the values present in latitude column:{indiaData.lat.unique()}')\n",
        "print(f'Cross-checking the values present in logitude column:{indiaData.lon.unique()}')\n",
        "print(f'Cross-checking unique values present in Intensive Care column:{indiaData.CumulativeRecovered.unique()}')\n",
        "print(f'Cross-checking unique values present in Hospitalized column:{indiaData.Hospitalized.unique()}')\n",
        "print(f'Cross-checking unique values present in Intensive Care:{indiaData.IntensiveCare.unique()}')"
      ],
      "metadata": {
        "colab": {
          "base_uri": "https://localhost:8080/"
        },
        "id": "DjrDsKfCrMHW",
        "outputId": "55dc34dc-f2b5-4a10-864a-4a56949b163b"
      },
      "id": "DjrDsKfCrMHW",
      "execution_count": 7,
      "outputs": [
        {
          "output_type": "stream",
          "name": "stdout",
          "text": [
            "Cross-checking if other country exists:['India']\n",
            "Cross-checking if any value present in column Region:[nan]\n",
            "Cross-checking the values present in latitude column:[21.125681]\n",
            "Cross-checking the values present in logitude column:[82.794998]\n",
            "Cross-checking unique values present in Intensive Care column:[nan]\n",
            "Cross-checking unique values present in Hospitalized column:[nan]\n",
            "Cross-checking unique values present in Intensive Care:[nan]\n"
          ]
        }
      ]
    },
    {
      "cell_type": "code",
      "source": [
        "df = indiaData.drop(columns=['iso3','CountryName','Region','lat','lon','IntensiveCare','EUcountry','EUCPMcountry','NUTS','Hospitalized','CumulativeRecovered'])"
      ],
      "metadata": {
        "id": "O76rUfYV7J5Q"
      },
      "id": "O76rUfYV7J5Q",
      "execution_count": 8,
      "outputs": []
    },
    {
      "cell_type": "code",
      "source": [
        "df.tail(5)"
      ],
      "metadata": {
        "colab": {
          "base_uri": "https://localhost:8080/",
          "height": 206
        },
        "id": "fSk_Epbh3WeJ",
        "outputId": "e838f1ea-9110-4684-e2ca-00bfd9b32fd2"
      },
      "id": "fSk_Epbh3WeJ",
      "execution_count": 9,
      "outputs": [
        {
          "output_type": "execute_result",
          "data": {
            "text/plain": [
              "              Date  CumulativePositive  CumulativeDeceased  CurrentlyPositive\n",
              "325526  2021-11-09          34377113.0            461389.0           33915724\n",
              "325895  2021-11-10          34388579.0            461849.0           33926730\n",
              "326303  2021-11-11          34401670.0            462189.0           33939481\n",
              "326709  2021-11-12          34414186.0            462690.0           33951496\n",
              "327434  2021-11-15          34447536.0            463655.0           33983881"
            ],
            "text/html": [
              "\n",
              "  <div id=\"df-650c56a3-e88b-4e75-a5ac-d47418d6b916\">\n",
              "    <div class=\"colab-df-container\">\n",
              "      <div>\n",
              "<style scoped>\n",
              "    .dataframe tbody tr th:only-of-type {\n",
              "        vertical-align: middle;\n",
              "    }\n",
              "\n",
              "    .dataframe tbody tr th {\n",
              "        vertical-align: top;\n",
              "    }\n",
              "\n",
              "    .dataframe thead th {\n",
              "        text-align: right;\n",
              "    }\n",
              "</style>\n",
              "<table border=\"1\" class=\"dataframe\">\n",
              "  <thead>\n",
              "    <tr style=\"text-align: right;\">\n",
              "      <th></th>\n",
              "      <th>Date</th>\n",
              "      <th>CumulativePositive</th>\n",
              "      <th>CumulativeDeceased</th>\n",
              "      <th>CurrentlyPositive</th>\n",
              "    </tr>\n",
              "  </thead>\n",
              "  <tbody>\n",
              "    <tr>\n",
              "      <th>325526</th>\n",
              "      <td>2021-11-09</td>\n",
              "      <td>34377113.0</td>\n",
              "      <td>461389.0</td>\n",
              "      <td>33915724</td>\n",
              "    </tr>\n",
              "    <tr>\n",
              "      <th>325895</th>\n",
              "      <td>2021-11-10</td>\n",
              "      <td>34388579.0</td>\n",
              "      <td>461849.0</td>\n",
              "      <td>33926730</td>\n",
              "    </tr>\n",
              "    <tr>\n",
              "      <th>326303</th>\n",
              "      <td>2021-11-11</td>\n",
              "      <td>34401670.0</td>\n",
              "      <td>462189.0</td>\n",
              "      <td>33939481</td>\n",
              "    </tr>\n",
              "    <tr>\n",
              "      <th>326709</th>\n",
              "      <td>2021-11-12</td>\n",
              "      <td>34414186.0</td>\n",
              "      <td>462690.0</td>\n",
              "      <td>33951496</td>\n",
              "    </tr>\n",
              "    <tr>\n",
              "      <th>327434</th>\n",
              "      <td>2021-11-15</td>\n",
              "      <td>34447536.0</td>\n",
              "      <td>463655.0</td>\n",
              "      <td>33983881</td>\n",
              "    </tr>\n",
              "  </tbody>\n",
              "</table>\n",
              "</div>\n",
              "      <button class=\"colab-df-convert\" onclick=\"convertToInteractive('df-650c56a3-e88b-4e75-a5ac-d47418d6b916')\"\n",
              "              title=\"Convert this dataframe to an interactive table.\"\n",
              "              style=\"display:none;\">\n",
              "        \n",
              "  <svg xmlns=\"http://www.w3.org/2000/svg\" height=\"24px\"viewBox=\"0 0 24 24\"\n",
              "       width=\"24px\">\n",
              "    <path d=\"M0 0h24v24H0V0z\" fill=\"none\"/>\n",
              "    <path d=\"M18.56 5.44l.94 2.06.94-2.06 2.06-.94-2.06-.94-.94-2.06-.94 2.06-2.06.94zm-11 1L8.5 8.5l.94-2.06 2.06-.94-2.06-.94L8.5 2.5l-.94 2.06-2.06.94zm10 10l.94 2.06.94-2.06 2.06-.94-2.06-.94-.94-2.06-.94 2.06-2.06.94z\"/><path d=\"M17.41 7.96l-1.37-1.37c-.4-.4-.92-.59-1.43-.59-.52 0-1.04.2-1.43.59L10.3 9.45l-7.72 7.72c-.78.78-.78 2.05 0 2.83L4 21.41c.39.39.9.59 1.41.59.51 0 1.02-.2 1.41-.59l7.78-7.78 2.81-2.81c.8-.78.8-2.07 0-2.86zM5.41 20L4 18.59l7.72-7.72 1.47 1.35L5.41 20z\"/>\n",
              "  </svg>\n",
              "      </button>\n",
              "      \n",
              "  <style>\n",
              "    .colab-df-container {\n",
              "      display:flex;\n",
              "      flex-wrap:wrap;\n",
              "      gap: 12px;\n",
              "    }\n",
              "\n",
              "    .colab-df-convert {\n",
              "      background-color: #E8F0FE;\n",
              "      border: none;\n",
              "      border-radius: 50%;\n",
              "      cursor: pointer;\n",
              "      display: none;\n",
              "      fill: #1967D2;\n",
              "      height: 32px;\n",
              "      padding: 0 0 0 0;\n",
              "      width: 32px;\n",
              "    }\n",
              "\n",
              "    .colab-df-convert:hover {\n",
              "      background-color: #E2EBFA;\n",
              "      box-shadow: 0px 1px 2px rgba(60, 64, 67, 0.3), 0px 1px 3px 1px rgba(60, 64, 67, 0.15);\n",
              "      fill: #174EA6;\n",
              "    }\n",
              "\n",
              "    [theme=dark] .colab-df-convert {\n",
              "      background-color: #3B4455;\n",
              "      fill: #D2E3FC;\n",
              "    }\n",
              "\n",
              "    [theme=dark] .colab-df-convert:hover {\n",
              "      background-color: #434B5C;\n",
              "      box-shadow: 0px 1px 3px 1px rgba(0, 0, 0, 0.15);\n",
              "      filter: drop-shadow(0px 1px 2px rgba(0, 0, 0, 0.3));\n",
              "      fill: #FFFFFF;\n",
              "    }\n",
              "  </style>\n",
              "\n",
              "      <script>\n",
              "        const buttonEl =\n",
              "          document.querySelector('#df-650c56a3-e88b-4e75-a5ac-d47418d6b916 button.colab-df-convert');\n",
              "        buttonEl.style.display =\n",
              "          google.colab.kernel.accessAllowed ? 'block' : 'none';\n",
              "\n",
              "        async function convertToInteractive(key) {\n",
              "          const element = document.querySelector('#df-650c56a3-e88b-4e75-a5ac-d47418d6b916');\n",
              "          const dataTable =\n",
              "            await google.colab.kernel.invokeFunction('convertToInteractive',\n",
              "                                                     [key], {});\n",
              "          if (!dataTable) return;\n",
              "\n",
              "          const docLinkHtml = 'Like what you see? Visit the ' +\n",
              "            '<a target=\"_blank\" href=https://colab.research.google.com/notebooks/data_table.ipynb>data table notebook</a>'\n",
              "            + ' to learn more about interactive tables.';\n",
              "          element.innerHTML = '';\n",
              "          dataTable['output_type'] = 'display_data';\n",
              "          await google.colab.output.renderOutput(dataTable, element);\n",
              "          const docLink = document.createElement('div');\n",
              "          docLink.innerHTML = docLinkHtml;\n",
              "          element.appendChild(docLink);\n",
              "        }\n",
              "      </script>\n",
              "    </div>\n",
              "  </div>\n",
              "  "
            ]
          },
          "metadata": {},
          "execution_count": 9
        }
      ]
    },
    {
      "cell_type": "markdown",
      "source": [
        "CurrentlyPositive = CumulativePositive - CumulativeDeceased"
      ],
      "metadata": {
        "id": "pK52djQC2U3-"
      },
      "id": "pK52djQC2U3-"
    },
    {
      "cell_type": "markdown",
      "source": [
        "##What was the worst day in your country? The worst increase of cases per day?"
      ],
      "metadata": {
        "id": "LkGKnu1iZZsq"
      },
      "id": "LkGKnu1iZZsq"
    },
    {
      "cell_type": "code",
      "source": [
        "df['DailyActive'] = df['CumulativePositive'].diff()\n",
        "df.tail(10)"
      ],
      "metadata": {
        "colab": {
          "base_uri": "https://localhost:8080/",
          "height": 363
        },
        "id": "QeyR9V1N3boF",
        "outputId": "57e30743-1747-4c5a-8b76-81af0740ac79"
      },
      "id": "QeyR9V1N3boF",
      "execution_count": 10,
      "outputs": [
        {
          "output_type": "execute_result",
          "data": {
            "text/plain": [
              "              Date  CumulativePositive  CumulativeDeceased  CurrentlyPositive  \\\n",
              "323253  2021-11-02          34296237.0            458880.0           33837357   \n",
              "323669  2021-11-03          34308140.0            459191.0           33848949   \n",
              "324044  2021-11-04          34321025.0            459652.0           33861373   \n",
              "324422  2021-11-05          34333754.0            459873.0           33873881   \n",
              "325147  2021-11-08          34366987.0            461057.0           33905930   \n",
              "325526  2021-11-09          34377113.0            461389.0           33915724   \n",
              "325895  2021-11-10          34388579.0            461849.0           33926730   \n",
              "326303  2021-11-11          34401670.0            462189.0           33939481   \n",
              "326709  2021-11-12          34414186.0            462690.0           33951496   \n",
              "327434  2021-11-15          34447536.0            463655.0           33983881   \n",
              "\n",
              "        DailyActive  \n",
              "323253      10423.0  \n",
              "323669      11903.0  \n",
              "324044      12885.0  \n",
              "324422      12729.0  \n",
              "325147      33233.0  \n",
              "325526      10126.0  \n",
              "325895      11466.0  \n",
              "326303      13091.0  \n",
              "326709      12516.0  \n",
              "327434      33350.0  "
            ],
            "text/html": [
              "\n",
              "  <div id=\"df-e859c076-224d-4398-bdc1-4fd773239dd4\">\n",
              "    <div class=\"colab-df-container\">\n",
              "      <div>\n",
              "<style scoped>\n",
              "    .dataframe tbody tr th:only-of-type {\n",
              "        vertical-align: middle;\n",
              "    }\n",
              "\n",
              "    .dataframe tbody tr th {\n",
              "        vertical-align: top;\n",
              "    }\n",
              "\n",
              "    .dataframe thead th {\n",
              "        text-align: right;\n",
              "    }\n",
              "</style>\n",
              "<table border=\"1\" class=\"dataframe\">\n",
              "  <thead>\n",
              "    <tr style=\"text-align: right;\">\n",
              "      <th></th>\n",
              "      <th>Date</th>\n",
              "      <th>CumulativePositive</th>\n",
              "      <th>CumulativeDeceased</th>\n",
              "      <th>CurrentlyPositive</th>\n",
              "      <th>DailyActive</th>\n",
              "    </tr>\n",
              "  </thead>\n",
              "  <tbody>\n",
              "    <tr>\n",
              "      <th>323253</th>\n",
              "      <td>2021-11-02</td>\n",
              "      <td>34296237.0</td>\n",
              "      <td>458880.0</td>\n",
              "      <td>33837357</td>\n",
              "      <td>10423.0</td>\n",
              "    </tr>\n",
              "    <tr>\n",
              "      <th>323669</th>\n",
              "      <td>2021-11-03</td>\n",
              "      <td>34308140.0</td>\n",
              "      <td>459191.0</td>\n",
              "      <td>33848949</td>\n",
              "      <td>11903.0</td>\n",
              "    </tr>\n",
              "    <tr>\n",
              "      <th>324044</th>\n",
              "      <td>2021-11-04</td>\n",
              "      <td>34321025.0</td>\n",
              "      <td>459652.0</td>\n",
              "      <td>33861373</td>\n",
              "      <td>12885.0</td>\n",
              "    </tr>\n",
              "    <tr>\n",
              "      <th>324422</th>\n",
              "      <td>2021-11-05</td>\n",
              "      <td>34333754.0</td>\n",
              "      <td>459873.0</td>\n",
              "      <td>33873881</td>\n",
              "      <td>12729.0</td>\n",
              "    </tr>\n",
              "    <tr>\n",
              "      <th>325147</th>\n",
              "      <td>2021-11-08</td>\n",
              "      <td>34366987.0</td>\n",
              "      <td>461057.0</td>\n",
              "      <td>33905930</td>\n",
              "      <td>33233.0</td>\n",
              "    </tr>\n",
              "    <tr>\n",
              "      <th>325526</th>\n",
              "      <td>2021-11-09</td>\n",
              "      <td>34377113.0</td>\n",
              "      <td>461389.0</td>\n",
              "      <td>33915724</td>\n",
              "      <td>10126.0</td>\n",
              "    </tr>\n",
              "    <tr>\n",
              "      <th>325895</th>\n",
              "      <td>2021-11-10</td>\n",
              "      <td>34388579.0</td>\n",
              "      <td>461849.0</td>\n",
              "      <td>33926730</td>\n",
              "      <td>11466.0</td>\n",
              "    </tr>\n",
              "    <tr>\n",
              "      <th>326303</th>\n",
              "      <td>2021-11-11</td>\n",
              "      <td>34401670.0</td>\n",
              "      <td>462189.0</td>\n",
              "      <td>33939481</td>\n",
              "      <td>13091.0</td>\n",
              "    </tr>\n",
              "    <tr>\n",
              "      <th>326709</th>\n",
              "      <td>2021-11-12</td>\n",
              "      <td>34414186.0</td>\n",
              "      <td>462690.0</td>\n",
              "      <td>33951496</td>\n",
              "      <td>12516.0</td>\n",
              "    </tr>\n",
              "    <tr>\n",
              "      <th>327434</th>\n",
              "      <td>2021-11-15</td>\n",
              "      <td>34447536.0</td>\n",
              "      <td>463655.0</td>\n",
              "      <td>33983881</td>\n",
              "      <td>33350.0</td>\n",
              "    </tr>\n",
              "  </tbody>\n",
              "</table>\n",
              "</div>\n",
              "      <button class=\"colab-df-convert\" onclick=\"convertToInteractive('df-e859c076-224d-4398-bdc1-4fd773239dd4')\"\n",
              "              title=\"Convert this dataframe to an interactive table.\"\n",
              "              style=\"display:none;\">\n",
              "        \n",
              "  <svg xmlns=\"http://www.w3.org/2000/svg\" height=\"24px\"viewBox=\"0 0 24 24\"\n",
              "       width=\"24px\">\n",
              "    <path d=\"M0 0h24v24H0V0z\" fill=\"none\"/>\n",
              "    <path d=\"M18.56 5.44l.94 2.06.94-2.06 2.06-.94-2.06-.94-.94-2.06-.94 2.06-2.06.94zm-11 1L8.5 8.5l.94-2.06 2.06-.94-2.06-.94L8.5 2.5l-.94 2.06-2.06.94zm10 10l.94 2.06.94-2.06 2.06-.94-2.06-.94-.94-2.06-.94 2.06-2.06.94z\"/><path d=\"M17.41 7.96l-1.37-1.37c-.4-.4-.92-.59-1.43-.59-.52 0-1.04.2-1.43.59L10.3 9.45l-7.72 7.72c-.78.78-.78 2.05 0 2.83L4 21.41c.39.39.9.59 1.41.59.51 0 1.02-.2 1.41-.59l7.78-7.78 2.81-2.81c.8-.78.8-2.07 0-2.86zM5.41 20L4 18.59l7.72-7.72 1.47 1.35L5.41 20z\"/>\n",
              "  </svg>\n",
              "      </button>\n",
              "      \n",
              "  <style>\n",
              "    .colab-df-container {\n",
              "      display:flex;\n",
              "      flex-wrap:wrap;\n",
              "      gap: 12px;\n",
              "    }\n",
              "\n",
              "    .colab-df-convert {\n",
              "      background-color: #E8F0FE;\n",
              "      border: none;\n",
              "      border-radius: 50%;\n",
              "      cursor: pointer;\n",
              "      display: none;\n",
              "      fill: #1967D2;\n",
              "      height: 32px;\n",
              "      padding: 0 0 0 0;\n",
              "      width: 32px;\n",
              "    }\n",
              "\n",
              "    .colab-df-convert:hover {\n",
              "      background-color: #E2EBFA;\n",
              "      box-shadow: 0px 1px 2px rgba(60, 64, 67, 0.3), 0px 1px 3px 1px rgba(60, 64, 67, 0.15);\n",
              "      fill: #174EA6;\n",
              "    }\n",
              "\n",
              "    [theme=dark] .colab-df-convert {\n",
              "      background-color: #3B4455;\n",
              "      fill: #D2E3FC;\n",
              "    }\n",
              "\n",
              "    [theme=dark] .colab-df-convert:hover {\n",
              "      background-color: #434B5C;\n",
              "      box-shadow: 0px 1px 3px 1px rgba(0, 0, 0, 0.15);\n",
              "      filter: drop-shadow(0px 1px 2px rgba(0, 0, 0, 0.3));\n",
              "      fill: #FFFFFF;\n",
              "    }\n",
              "  </style>\n",
              "\n",
              "      <script>\n",
              "        const buttonEl =\n",
              "          document.querySelector('#df-e859c076-224d-4398-bdc1-4fd773239dd4 button.colab-df-convert');\n",
              "        buttonEl.style.display =\n",
              "          google.colab.kernel.accessAllowed ? 'block' : 'none';\n",
              "\n",
              "        async function convertToInteractive(key) {\n",
              "          const element = document.querySelector('#df-e859c076-224d-4398-bdc1-4fd773239dd4');\n",
              "          const dataTable =\n",
              "            await google.colab.kernel.invokeFunction('convertToInteractive',\n",
              "                                                     [key], {});\n",
              "          if (!dataTable) return;\n",
              "\n",
              "          const docLinkHtml = 'Like what you see? Visit the ' +\n",
              "            '<a target=\"_blank\" href=https://colab.research.google.com/notebooks/data_table.ipynb>data table notebook</a>'\n",
              "            + ' to learn more about interactive tables.';\n",
              "          element.innerHTML = '';\n",
              "          dataTable['output_type'] = 'display_data';\n",
              "          await google.colab.output.renderOutput(dataTable, element);\n",
              "          const docLink = document.createElement('div');\n",
              "          docLink.innerHTML = docLinkHtml;\n",
              "          element.appendChild(docLink);\n",
              "        }\n",
              "      </script>\n",
              "    </div>\n",
              "  </div>\n",
              "  "
            ]
          },
          "metadata": {},
          "execution_count": 10
        }
      ]
    },
    {
      "cell_type": "code",
      "source": [
        "df.plot.line('Date', ['DailyActive'], grid = True, figsize=(12, 8))"
      ],
      "metadata": {
        "colab": {
          "base_uri": "https://localhost:8080/",
          "height": 515
        },
        "id": "kINPqD7i0EIr",
        "outputId": "87672397-cf56-4fe8-92be-763690a13ee8"
      },
      "id": "kINPqD7i0EIr",
      "execution_count": 11,
      "outputs": [
        {
          "output_type": "execute_result",
          "data": {
            "text/plain": [
              "<matplotlib.axes._subplots.AxesSubplot at 0x7f7fb28ee490>"
            ]
          },
          "metadata": {},
          "execution_count": 11
        },
        {
          "output_type": "display_data",
          "data": {
            "text/plain": [
              "<Figure size 864x576 with 1 Axes>"
            ],
            "image/png": "[encoded data removed]"
          },
          "metadata": {
            "needs_background": "light"
          }
        }
      ]
    },
    {
      "cell_type": "code",
      "source": [
        "start_date = '2021-03-05'\n",
        "end_date = '2021-06-13'\n",
        "# Select DataFrame rows between two dates\n",
        "mask = (df['Date'] > start_date) & (df['Date'] <= end_date)\n",
        "df2 = df.loc[mask]\n",
        "df2"
      ],
      "metadata": {
        "colab": {
          "base_uri": "https://localhost:8080/",
          "height": 424
        },
        "id": "hV25zPEJ1VvH",
        "outputId": "ee0de8d1-1c67-4ac8-9bbe-8a39e0fe07c0"
      },
      "id": "hV25zPEJ1VvH",
      "execution_count": 12,
      "outputs": [
        {
          "output_type": "execute_result",
          "data": {
            "text/plain": [
              "              Date  CumulativePositive  CumulativeDeceased  CurrentlyPositive  \\\n",
              "207014  2021-03-06          11192088.0            157656.0           11034432   \n",
              "207538  2021-03-07          11210799.0            157756.0           11053043   \n",
              "208070  2021-03-08          11229398.0            157853.0           11071545   \n",
              "208645  2021-03-09          11244786.0            157930.0           11086856   \n",
              "209197  2021-03-10          11262707.0            158063.0           11104644   \n",
              "...            ...                 ...                 ...                ...   \n",
              "257807  2021-06-09          29089069.0            353528.0           28735541   \n",
              "258281  2021-06-10          29183121.0            359676.0           28823445   \n",
              "258677  2021-06-11          29274823.0            363079.0           28911744   \n",
              "259178  2021-06-12          29359155.0            367081.0           28992074   \n",
              "259615  2021-06-13          29439989.0            370384.0           29069605   \n",
              "\n",
              "        DailyActive  \n",
              "207014      18327.0  \n",
              "207538      18711.0  \n",
              "208070      18599.0  \n",
              "208645      15388.0  \n",
              "209197      17921.0  \n",
              "...             ...  \n",
              "257807      92596.0  \n",
              "258281      94052.0  \n",
              "258677      91702.0  \n",
              "259178      84332.0  \n",
              "259615      80834.0  \n",
              "\n",
              "[100 rows x 5 columns]"
            ],
            "text/html": [
              "\n",
              "  <div id=\"df-8d5f858a-d722-4785-a74f-19488b70d228\">\n",
              "    <div class=\"colab-df-container\">\n",
              "      <div>\n",
              "<style scoped>\n",
              "    .dataframe tbody tr th:only-of-type {\n",
              "        vertical-align: middle;\n",
              "    }\n",
              "\n",
              "    .dataframe tbody tr th {\n",
              "        vertical-align: top;\n",
              "    }\n",
              "\n",
              "    .dataframe thead th {\n",
              "        text-align: right;\n",
              "    }\n",
              "</style>\n",
              "<table border=\"1\" class=\"dataframe\">\n",
              "  <thead>\n",
              "    <tr style=\"text-align: right;\">\n",
              "      <th></th>\n",
              "      <th>Date</th>\n",
              "      <th>CumulativePositive</th>\n",
              "      <th>CumulativeDeceased</th>\n",
              "      <th>CurrentlyPositive</th>\n",
              "      <th>DailyActive</th>\n",
              "    </tr>\n",
              "  </thead>\n",
              "  <tbody>\n",
              "    <tr>\n",
              "      <th>207014</th>\n",
              "      <td>2021-03-06</td>\n",
              "      <td>11192088.0</td>\n",
              "      <td>157656.0</td>\n",
              "      <td>11034432</td>\n",
              "      <td>18327.0</td>\n",
              "    </tr>\n",
              "    <tr>\n",
              "      <th>207538</th>\n",
              "      <td>2021-03-07</td>\n",
              "      <td>11210799.0</td>\n",
              "      <td>157756.0</td>\n",
              "      <td>11053043</td>\n",
              "      <td>18711.0</td>\n",
              "    </tr>\n",
              "    <tr>\n",
              "      <th>208070</th>\n",
              "      <td>2021-03-08</td>\n",
              "      <td>11229398.0</td>\n",
              "      <td>157853.0</td>\n",
              "      <td>11071545</td>\n",
              "      <td>18599.0</td>\n",
              "    </tr>\n",
              "    <tr>\n",
              "      <th>208645</th>\n",
              "      <td>2021-03-09</td>\n",
              "      <td>11244786.0</td>\n",
              "      <td>157930.0</td>\n",
              "      <td>11086856</td>\n",
              "      <td>15388.0</td>\n",
              "    </tr>\n",
              "    <tr>\n",
              "      <th>209197</th>\n",
              "      <td>2021-03-10</td>\n",
              "      <td>11262707.0</td>\n",
              "      <td>158063.0</td>\n",
              "      <td>11104644</td>\n",
              "      <td>17921.0</td>\n",
              "    </tr>\n",
              "    <tr>\n",
              "      <th>...</th>\n",
              "      <td>...</td>\n",
              "      <td>...</td>\n",
              "      <td>...</td>\n",
              "      <td>...</td>\n",
              "      <td>...</td>\n",
              "    </tr>\n",
              "    <tr>\n",
              "      <th>257807</th>\n",
              "      <td>2021-06-09</td>\n",
              "      <td>29089069.0</td>\n",
              "      <td>353528.0</td>\n",
              "      <td>28735541</td>\n",
              "      <td>92596.0</td>\n",
              "    </tr>\n",
              "    <tr>\n",
              "      <th>258281</th>\n",
              "      <td>2021-06-10</td>\n",
              "      <td>29183121.0</td>\n",
              "      <td>359676.0</td>\n",
              "      <td>28823445</td>\n",
              "      <td>94052.0</td>\n",
              "    </tr>\n",
              "    <tr>\n",
              "      <th>258677</th>\n",
              "      <td>2021-06-11</td>\n",
              "      <td>29274823.0</td>\n",
              "      <td>363079.0</td>\n",
              "      <td>28911744</td>\n",
              "      <td>91702.0</td>\n",
              "    </tr>\n",
              "    <tr>\n",
              "      <th>259178</th>\n",
              "      <td>2021-06-12</td>\n",
              "      <td>29359155.0</td>\n",
              "      <td>367081.0</td>\n",
              "      <td>28992074</td>\n",
              "      <td>84332.0</td>\n",
              "    </tr>\n",
              "    <tr>\n",
              "      <th>259615</th>\n",
              "      <td>2021-06-13</td>\n",
              "      <td>29439989.0</td>\n",
              "      <td>370384.0</td>\n",
              "      <td>29069605</td>\n",
              "      <td>80834.0</td>\n",
              "    </tr>\n",
              "  </tbody>\n",
              "</table>\n",
              "<p>100 rows × 5 columns</p>\n",
              "</div>\n",
              "      <button class=\"colab-df-convert\" onclick=\"convertToInteractive('df-8d5f858a-d722-4785-a74f-19488b70d228')\"\n",
              "              title=\"Convert this dataframe to an interactive table.\"\n",
              "              style=\"display:none;\">\n",
              "        \n",
              "  <svg xmlns=\"http://www.w3.org/2000/svg\" height=\"24px\"viewBox=\"0 0 24 24\"\n",
              "       width=\"24px\">\n",
              "    <path d=\"M0 0h24v24H0V0z\" fill=\"none\"/>\n",
              "    <path d=\"M18.56 5.44l.94 2.06.94-2.06 2.06-.94-2.06-.94-.94-2.06-.94 2.06-2.06.94zm-11 1L8.5 8.5l.94-2.06 2.06-.94-2.06-.94L8.5 2.5l-.94 2.06-2.06.94zm10 10l.94 2.06.94-2.06 2.06-.94-2.06-.94-.94-2.06-.94 2.06-2.06.94z\"/><path d=\"M17.41 7.96l-1.37-1.37c-.4-.4-.92-.59-1.43-.59-.52 0-1.04.2-1.43.59L10.3 9.45l-7.72 7.72c-.78.78-.78 2.05 0 2.83L4 21.41c.39.39.9.59 1.41.59.51 0 1.02-.2 1.41-.59l7.78-7.78 2.81-2.81c.8-.78.8-2.07 0-2.86zM5.41 20L4 18.59l7.72-7.72 1.47 1.35L5.41 20z\"/>\n",
              "  </svg>\n",
              "      </button>\n",
              "      \n",
              "  <style>\n",
              "    .colab-df-container {\n",
              "      display:flex;\n",
              "      flex-wrap:wrap;\n",
              "      gap: 12px;\n",
              "    }\n",
              "\n",
              "    .colab-df-convert {\n",
              "      background-color: #E8F0FE;\n",
              "      border: none;\n",
              "      border-radius: 50%;\n",
              "      cursor: pointer;\n",
              "      display: none;\n",
              "      fill: #1967D2;\n",
              "      height: 32px;\n",
              "      padding: 0 0 0 0;\n",
              "      width: 32px;\n",
              "    }\n",
              "\n",
              "    .colab-df-convert:hover {\n",
              "      background-color: #E2EBFA;\n",
              "      box-shadow: 0px 1px 2px rgba(60, 64, 67, 0.3), 0px 1px 3px 1px rgba(60, 64, 67, 0.15);\n",
              "      fill: #174EA6;\n",
              "    }\n",
              "\n",
              "    [theme=dark] .colab-df-convert {\n",
              "      background-color: #3B4455;\n",
              "      fill: #D2E3FC;\n",
              "    }\n",
              "\n",
              "    [theme=dark] .colab-df-convert:hover {\n",
              "      background-color: #434B5C;\n",
              "      box-shadow: 0px 1px 3px 1px rgba(0, 0, 0, 0.15);\n",
              "      filter: drop-shadow(0px 1px 2px rgba(0, 0, 0, 0.3));\n",
              "      fill: #FFFFFF;\n",
              "    }\n",
              "  </style>\n",
              "\n",
              "      <script>\n",
              "        const buttonEl =\n",
              "          document.querySelector('#df-8d5f858a-d722-4785-a74f-19488b70d228 button.colab-df-convert');\n",
              "        buttonEl.style.display =\n",
              "          google.colab.kernel.accessAllowed ? 'block' : 'none';\n",
              "\n",
              "        async function convertToInteractive(key) {\n",
              "          const element = document.querySelector('#df-8d5f858a-d722-4785-a74f-19488b70d228');\n",
              "          const dataTable =\n",
              "            await google.colab.kernel.invokeFunction('convertToInteractive',\n",
              "                                                     [key], {});\n",
              "          if (!dataTable) return;\n",
              "\n",
              "          const docLinkHtml = 'Like what you see? Visit the ' +\n",
              "            '<a target=\"_blank\" href=https://colab.research.google.com/notebooks/data_table.ipynb>data table notebook</a>'\n",
              "            + ' to learn more about interactive tables.';\n",
              "          element.innerHTML = '';\n",
              "          dataTable['output_type'] = 'display_data';\n",
              "          await google.colab.output.renderOutput(dataTable, element);\n",
              "          const docLink = document.createElement('div');\n",
              "          docLink.innerHTML = docLinkHtml;\n",
              "          element.appendChild(docLink);\n",
              "        }\n",
              "      </script>\n",
              "    </div>\n",
              "  </div>\n",
              "  "
            ]
          },
          "metadata": {},
          "execution_count": 12
        }
      ]
    },
    {
      "cell_type": "code",
      "source": [
        "df2.plot.line('Date', ['DailyActive'], grid = True, figsize=(12, 8))"
      ],
      "metadata": {
        "colab": {
          "base_uri": "https://localhost:8080/",
          "height": 515
        },
        "id": "dOs7ySlG1rpK",
        "outputId": "94d375ef-9144-4486-a604-5e2ce267da2b"
      },
      "id": "dOs7ySlG1rpK",
      "execution_count": 13,
      "outputs": [
        {
          "output_type": "execute_result",
          "data": {
            "text/plain": [
              "<matplotlib.axes._subplots.AxesSubplot at 0x7f7fb28ee3a0>"
            ]
          },
          "metadata": {},
          "execution_count": 13
        },
        {
          "output_type": "display_data",
          "data": {
            "text/plain": [
              "<Figure size 864x576 with 1 Axes>"
            ],
            "image/png": "[encoded data removed]"
          },
          "metadata": {
            "needs_background": "light"
          }
        }
      ]
    },
    {
      "cell_type": "code",
      "source": [
        "col = \"DailyActive\"\n",
        "MostActive = df2.loc[df2[col].idxmax()]\n",
        "print(f\"The worst date in India is\",MostActive.Date ,\" and the total active cases was\", MostActive.DailyActive)"
      ],
      "metadata": {
        "colab": {
          "base_uri": "https://localhost:8080/"
        },
        "id": "wvlhz0PHCRcu",
        "outputId": "9b6ba9e0-c0bd-47a7-e2e2-5dfad9ebe30a"
      },
      "id": "wvlhz0PHCRcu",
      "execution_count": 14,
      "outputs": [
        {
          "output_type": "stream",
          "name": "stdout",
          "text": [
            "The worst date in India is 2021-05-07  and the total active cases was 414188.0\n"
          ]
        }
      ]
    },
    {
      "cell_type": "markdown",
      "source": [
        "###The worst date in India is 2021-05-07  and the total active cases was 414188.0"
      ],
      "metadata": {
        "id": "fk1gv8GNSKVE"
      },
      "id": "fk1gv8GNSKVE"
    },
    {
      "cell_type": "markdown",
      "source": [
        "## For your own country, what is the difference between summer and winter in terms of hospitalized patients?"
      ],
      "metadata": {
        "id": "y--cCc2eLMl3"
      },
      "id": "y--cCc2eLMl3"
    },
    {
      "cell_type": "code",
      "source": [
        "# Dropping rows with null values\n",
        "covid1 = covid.dropna(subset=['Hospitalized'])[['Date', 'iso3', 'CountryName', 'Region', 'lat', 'lon', 'CumulativePositive', 'CumulativeDeceased', 'CumulativeRecovered', 'CurrentlyPositive', 'Hospitalized', 'IntensiveCare', 'EUcountry', 'EUCPMcountry', 'NUTS']]\n",
        "\n",
        "# Dropping rows will 0 in Hospitalized\n",
        "covid1= covid1[covid1['Hospitalized'] != 0]"
      ],
      "metadata": {
        "id": "2RCDtBZsSe5U"
      },
      "id": "2RCDtBZsSe5U",
      "execution_count": 15,
      "outputs": []
    },
    {
      "cell_type": "code",
      "source": [
        "#Checking if we still have zero/null values in the new dataset\n",
        "covid1.Hospitalized.unique()"
      ],
      "metadata": {
        "colab": {
          "base_uri": "https://localhost:8080/"
        },
        "id": "rdceEtM1d41E",
        "outputId": "c1a63a2d-77a6-4a83-be39-592fd6d34ed3"
      },
      "id": "rdceEtM1d41E",
      "execution_count": 16,
      "outputs": [
        {
          "output_type": "execute_result",
          "data": {
            "text/plain": [
              "array([1.200e+01, 2.000e+00, 9.500e+01, ..., 5.326e+03, 9.277e+03,\n",
              "       5.833e+03])"
            ]
          },
          "metadata": {},
          "execution_count": 16
        }
      ]
    },
    {
      "cell_type": "code",
      "source": [
        "print(f'Now the countries with hospitalized data are',covid1.CountryName.unique())"
      ],
      "metadata": {
        "id": "cXNxF5TJVcXQ",
        "colab": {
          "base_uri": "https://localhost:8080/"
        },
        "outputId": "de7010a6-f118-4985-c321-c0b0553e68bd"
      },
      "id": "cXNxF5TJVcXQ",
      "execution_count": 17,
      "outputs": [
        {
          "output_type": "stream",
          "name": "stdout",
          "text": [
            "Now the countries with hospitalized data are ['Italy' 'Switzerland' 'Ireland' 'Slovenia' 'Belgium' 'Spain' 'Cyprus'\n",
            " 'Austria' 'Hungary' 'Slovakia' 'Netherlands' 'Albania' 'Norway'\n",
            " 'Montenegro' 'Denmark' 'Andorra']\n"
          ]
        }
      ]
    },
    {
      "cell_type": "code",
      "source": [
        "#Selecting Switzerland\n",
        "swissData = covid1.loc[covid1['CountryName']=='Switzerland']"
      ],
      "metadata": {
        "id": "zAFSPH1uagGV"
      },
      "id": "zAFSPH1uagGV",
      "execution_count": 18,
      "outputs": []
    },
    {
      "cell_type": "code",
      "source": [
        "swissData.plot.line('Date', ['Hospitalized'], grid = True, figsize=(12, 8))"
      ],
      "metadata": {
        "colab": {
          "base_uri": "https://localhost:8080/",
          "height": 515
        },
        "id": "Z2crjthUPWKC",
        "outputId": "7be2e4d3-b124-41ba-f965-bb0d6659fd0c"
      },
      "id": "Z2crjthUPWKC",
      "execution_count": 19,
      "outputs": [
        {
          "output_type": "execute_result",
          "data": {
            "text/plain": [
              "<matplotlib.axes._subplots.AxesSubplot at 0x7f7fb2315e80>"
            ]
          },
          "metadata": {},
          "execution_count": 19
        },
        {
          "output_type": "display_data",
          "data": {
            "text/plain": [
              "<Figure size 864x576 with 1 Axes>"
            ],
            "image/png": "[encoded data removed]"
          },
          "metadata": {
            "needs_background": "light"
          }
        }
      ]
    },
    {
      "cell_type": "code",
      "source": [
        "#The seasons in Switzerland are winter (mid December to mid March), summer (mid June to mid September)\n",
        "summer_start_date = '2020-06-15'\n",
        "summer_end_date   = '2020-09-15'\n",
        "swiss_summer_data = swissData.query('Date >= @summer_start_date and Date <= @summer_end_date')"
      ],
      "metadata": {
        "id": "wxiGMee7OAiC"
      },
      "id": "wxiGMee7OAiC",
      "execution_count": 20,
      "outputs": []
    },
    {
      "cell_type": "code",
      "source": [
        "winter_start_date = '2020-12-15'\n",
        "winter_end_date   = '2021-03-15'\n",
        "swiss_winter_data = swissData.query('Date >= @winter_start_date and Date <= @winter_end_date')"
      ],
      "metadata": {
        "id": "yZlZ8UCycoBn"
      },
      "id": "yZlZ8UCycoBn",
      "execution_count": 21,
      "outputs": []
    },
    {
      "cell_type": "code",
      "source": [
        "#Calculating the mean and sum of Hospitalised patients in Summer\n",
        "swiss_summer_data_mean = swiss_summer_data[['Hospitalized']].mean()\n",
        "swiss_summer_data_sum = swiss_summer_data[['Hospitalized']].sum()\n",
        "print(f'The mean of hospitalized patient in the summer time is',swiss_summer_data_mean,'\\nand the sum is',swiss_summer_data_sum)"
      ],
      "metadata": {
        "colab": {
          "base_uri": "https://localhost:8080/"
        },
        "id": "72PhP4d7cp7D",
        "outputId": "c78d1071-2a70-4b49-8125-89e58344da00"
      },
      "id": "72PhP4d7cp7D",
      "execution_count": 22,
      "outputs": [
        {
          "output_type": "stream",
          "name": "stdout",
          "text": [
            "The mean of hospitalized patient in the summer time is Hospitalized    6.609459\n",
            "dtype: float64 \n",
            "and the sum is Hospitalized    9782.0\n",
            "dtype: float64\n"
          ]
        }
      ]
    },
    {
      "cell_type": "code",
      "source": [
        "#Calculating the mean and sum of Hospitalised patients in Winter\n",
        "swiss_winter_data_mean = swiss_winter_data[['Hospitalized']].mean()\n",
        "swiss_winter_data_sum = swiss_winter_data[['Hospitalized']].sum()\n",
        "print(f'The mean of hospitalized patient in the winter time is',swiss_winter_data_mean,'\\nand the sum is',swiss_winter_data_sum)"
      ],
      "metadata": {
        "colab": {
          "base_uri": "https://localhost:8080/"
        },
        "id": "KbzY8fWbY1MA",
        "outputId": "224ce905-4822-411b-a11f-11694f82d69f"
      },
      "id": "KbzY8fWbY1MA",
      "execution_count": 23,
      "outputs": [
        {
          "output_type": "stream",
          "name": "stdout",
          "text": [
            "The mean of hospitalized patient in the winter time is Hospitalized    66.849845\n",
            "dtype: float64 \n",
            "and the sum is Hospitalized    150479.0\n",
            "dtype: float64\n"
          ]
        }
      ]
    },
    {
      "cell_type": "markdown",
      "source": [
        "## For every country calculate average number of currently positive patients\n",
        "## What is the country with most average active currently positive cases?\n",
        "## Solve with Pandas and measure the execution time"
      ],
      "metadata": {
        "id": "vKVZMVdsj5df"
      },
      "id": "vKVZMVdsj5df"
    },
    {
      "cell_type": "code",
      "source": [
        "import time\n",
        "\n",
        "start = time.time()\n",
        "\n",
        "covid_countries = covid.groupby([\"CountryName\"])\n",
        "print(f'The average number of positive patients for all the countries is as follows\\n',covid_countries.CumulativePositive.mean(),'\\n')\n",
        "covid_countries.CumulativePositive.mean().plot(kind='bar', figsize= (40,6))\n",
        "\n",
        "end = time.time()\n",
        "print(f'The execution time required is,\\n',end - start,'\\n')"
      ],
      "metadata": {
        "colab": {
          "base_uri": "https://localhost:8080/",
          "height": 682
        },
        "id": "WoI_2j8B3rxO",
        "outputId": "dc47a013-6bd6-4e6a-9257-11458ddb75e8"
      },
      "id": "WoI_2j8B3rxO",
      "execution_count": 24,
      "outputs": [
        {
          "output_type": "stream",
          "name": "stdout",
          "text": [
            "The average number of positive patients for all the countries is as follows\n",
            " CountryName\n",
            "Afghanistan       58080.793162\n",
            "Albania            6073.133333\n",
            "Algeria           84558.510239\n",
            "American Samoa        0.000000\n",
            "Andorra            7050.146199\n",
            "                      ...     \n",
            "Western Sahara      579.110320\n",
            "Whole Globe        2134.759615\n",
            "Yemen              3610.383333\n",
            "Zambia            64268.828319\n",
            "Zimbabwe          33578.600355\n",
            "Name: CumulativePositive, Length: 221, dtype: float64 \n",
            "\n",
            "The execution time required is,\n",
            " 0.26735568046569824 \n",
            "\n"
          ]
        },
        {
          "output_type": "display_data",
          "data": {
            "text/plain": [
              "<Figure size 2880x432 with 1 Axes>"
            ],
            "image/png": "[encoded data removed]"
          },
          "metadata": {
            "needs_background": "light"
          }
        }
      ]
    },
    {
      "cell_type": "markdown",
      "source": [
        "###From the above visualization we can see that United States of America have the highest average of currently positive cases."
      ],
      "metadata": {
        "id": "p9sD1XTDMvvT"
      },
      "id": "p9sD1XTDMvvT"
    },
    {
      "cell_type": "markdown",
      "id": "bca90cb1",
      "metadata": {
        "id": "bca90cb1"
      },
      "source": [
        "# PySpark"
      ]
    },
    {
      "cell_type": "code",
      "execution_count": 25,
      "id": "2b91e624",
      "metadata": {
        "id": "2b91e624",
        "colab": {
          "base_uri": "https://localhost:8080/"
        },
        "outputId": "2b754b7a-6fdf-46e2-a731-9c2d51d1031b"
      },
      "outputs": [
        {
          "output_type": "stream",
          "name": "stdout",
          "text": [
            "Looking in indexes: https://pypi.org/simple, https://us-python.pkg.dev/colab-wheels/public/simple/\n",
            "Collecting pyspark\n",
            "  Downloading pyspark-3.3.1.tar.gz (281.4 MB)\n",
            "\u001b[2K     \u001b[90m━━━━━━━━━━━━━━━━━━━━━━━━━━━━━━━━━━━━━━━\u001b[0m \u001b[32m281.4/281.4 MB\u001b[0m \u001b[31m4.2 MB/s\u001b[0m eta \u001b[36m0:00:00\u001b[0m\n",
            "\u001b[?25h  Preparing metadata (setup.py) ... \u001b[?25l\u001b[?25hdone\n",
            "Collecting py4j==0.10.9.5\n",
            "  Downloading py4j-0.10.9.5-py2.py3-none-any.whl (199 kB)\n",
            "\u001b[2K     \u001b[90m━━━━━━━━━━━━━━━━━━━━━━━━━━━━━━━━━━━━━━\u001b[0m \u001b[32m199.7/199.7 KB\u001b[0m \u001b[31m22.3 MB/s\u001b[0m eta \u001b[36m0:00:00\u001b[0m\n",
            "\u001b[?25hBuilding wheels for collected packages: pyspark\n",
            "  Building wheel for pyspark (setup.py) ... \u001b[?25l\u001b[?25hdone\n",
            "  Created wheel for pyspark: filename=pyspark-3.3.1-py2.py3-none-any.whl size=281845512 sha256=d798a574f5dc64f3b57e4d24cf7f2c036a8474b8f9700fdf7d681317ebb56c9b\n",
            "  Stored in directory: /root/.cache/pip/wheels/43/dc/11/ec201cd671da62fa9c5cc77078235e40722170ceba231d7598\n",
            "Successfully built pyspark\n",
            "Installing collected packages: py4j, pyspark\n",
            "Successfully installed py4j-0.10.9.5 pyspark-3.3.1\n",
            "The following package was automatically installed and is no longer required:\n",
            "  libnvidia-common-460\n",
            "Use 'apt autoremove' to remove it.\n",
            "The following additional packages will be installed:\n",
            "  openjdk-8-jre-headless\n",
            "Suggested packages:\n",
            "  openjdk-8-demo openjdk-8-source libnss-mdns fonts-dejavu-extra\n",
            "  fonts-ipafont-gothic fonts-ipafont-mincho fonts-wqy-microhei\n",
            "  fonts-wqy-zenhei fonts-indic\n",
            "The following NEW packages will be installed:\n",
            "  openjdk-8-jdk-headless openjdk-8-jre-headless\n",
            "0 upgraded, 2 newly installed, 0 to remove and 21 not upgraded.\n",
            "Need to get 36.6 MB of archives.\n",
            "After this operation, 143 MB of additional disk space will be used.\n",
            "Selecting previously unselected package openjdk-8-jre-headless:amd64.\n",
            "(Reading database ... 124016 files and directories currently installed.)\n",
            "Preparing to unpack .../openjdk-8-jre-headless_8u352-ga-1~18.04_amd64.deb ...\n",
            "Unpacking openjdk-8-jre-headless:amd64 (8u352-ga-1~18.04) ...\n",
            "Selecting previously unselected package openjdk-8-jdk-headless:amd64.\n",
            "Preparing to unpack .../openjdk-8-jdk-headless_8u352-ga-1~18.04_amd64.deb ...\n",
            "Unpacking openjdk-8-jdk-headless:amd64 (8u352-ga-1~18.04) ...\n",
            "Setting up openjdk-8-jre-headless:amd64 (8u352-ga-1~18.04) ...\n",
            "update-alternatives: using /usr/lib/jvm/java-8-openjdk-amd64/jre/bin/orbd to provide /usr/bin/orbd (orbd) in auto mode\n",
            "update-alternatives: using /usr/lib/jvm/java-8-openjdk-amd64/jre/bin/servertool to provide /usr/bin/servertool (servertool) in auto mode\n",
            "update-alternatives: using /usr/lib/jvm/java-8-openjdk-amd64/jre/bin/tnameserv to provide /usr/bin/tnameserv (tnameserv) in auto mode\n",
            "Setting up openjdk-8-jdk-headless:amd64 (8u352-ga-1~18.04) ...\n",
            "update-alternatives: using /usr/lib/jvm/java-8-openjdk-amd64/bin/idlj to provide /usr/bin/idlj (idlj) in auto mode\n",
            "update-alternatives: using /usr/lib/jvm/java-8-openjdk-amd64/bin/wsimport to provide /usr/bin/wsimport (wsimport) in auto mode\n",
            "update-alternatives: using /usr/lib/jvm/java-8-openjdk-amd64/bin/jsadebugd to provide /usr/bin/jsadebugd (jsadebugd) in auto mode\n",
            "update-alternatives: using /usr/lib/jvm/java-8-openjdk-amd64/bin/native2ascii to provide /usr/bin/native2ascii (native2ascii) in auto mode\n",
            "update-alternatives: using /usr/lib/jvm/java-8-openjdk-amd64/bin/javah to provide /usr/bin/javah (javah) in auto mode\n",
            "update-alternatives: using /usr/lib/jvm/java-8-openjdk-amd64/bin/clhsdb to provide /usr/bin/clhsdb (clhsdb) in auto mode\n",
            "update-alternatives: using /usr/lib/jvm/java-8-openjdk-amd64/bin/xjc to provide /usr/bin/xjc (xjc) in auto mode\n",
            "update-alternatives: using /usr/lib/jvm/java-8-openjdk-amd64/bin/hsdb to provide /usr/bin/hsdb (hsdb) in auto mode\n",
            "update-alternatives: using /usr/lib/jvm/java-8-openjdk-amd64/bin/schemagen to provide /usr/bin/schemagen (schemagen) in auto mode\n",
            "update-alternatives: using /usr/lib/jvm/java-8-openjdk-amd64/bin/extcheck to provide /usr/bin/extcheck (extcheck) in auto mode\n",
            "update-alternatives: using /usr/lib/jvm/java-8-openjdk-amd64/bin/jhat to provide /usr/bin/jhat (jhat) in auto mode\n",
            "update-alternatives: using /usr/lib/jvm/java-8-openjdk-amd64/bin/wsgen to provide /usr/bin/wsgen (wsgen) in auto mode\n"
          ]
        }
      ],
      "source": [
        "#solve this part in PySpark on Google colab or your own machine (if you have PySpark set up)\n",
        "!pip install pyspark\n",
        "!pip install -U -q PyDrive\n",
        "!apt install openjdk-8-jdk-headless -qq\n",
        "import os\n",
        "os.environ[\"JAVA_HOME\"] = \"/usr/lib/jvm/java-8-openjdk-amd64\"\n",
        "\n",
        "from pyspark.sql import SparkSession\n",
        "from pyspark import SparkContext, SparkConf\n",
        "from pyspark.sql.functions import sum, col, desc, max\n",
        "\n",
        "\n",
        "# create the session\n",
        "conf = SparkConf().set(\"spark.ui.port\", \"4050\")\n",
        "\n",
        "# create the context\n",
        "sc = SparkContext(conf=conf)\n",
        "spark = SparkSession.builder.getOrCreate()"
      ]
    },
    {
      "cell_type": "markdown",
      "source": [
        "## For every country calculate average number of curently positive patients\n",
        "## What is the country with most average active curently positive cases?\n",
        "## Solve by Map-Reduce and measure the execution time"
      ],
      "metadata": {
        "id": "AowfkUmZT6ad"
      },
      "id": "AowfkUmZT6ad"
    },
    {
      "cell_type": "code",
      "execution_count": 26,
      "id": "d09db810",
      "metadata": {
        "id": "d09db810",
        "colab": {
          "base_uri": "https://localhost:8080/"
        },
        "outputId": "de19a221-9650-420c-e141-f3c8d6d59a08"
      },
      "outputs": [
        {
          "output_type": "execute_result",
          "data": {
            "text/plain": [
              "327686"
            ]
          },
          "metadata": {},
          "execution_count": 26
        }
      ],
      "source": [
        "import time\n",
        "\n",
        "ds = spark.read.csv(path='/content/drive/MyDrive/bda/COVID.csv', sep=',',encoding='UTF-8',comment=None, header=True,inferSchema=True)\n",
        "\n",
        "# view row count\n",
        "ds.count()"
      ]
    },
    {
      "cell_type": "code",
      "source": [
        "# View the first 5 rows of data\n",
        "ds.show(5)\n"
      ],
      "metadata": {
        "id": "oLCWXdL4F-cA",
        "colab": {
          "base_uri": "https://localhost:8080/"
        },
        "outputId": "abd521a3-3de5-408f-d90b-e994bdc83466"
      },
      "id": "oLCWXdL4F-cA",
      "execution_count": 27,
      "outputs": [
        {
          "output_type": "stream",
          "name": "stdout",
          "text": [
            "+-------------------+----+--------------------+------+----------+----------+------------------+------------------+-------------------+-----------------+------------+-------------+---------+------------+----+\n",
            "|               Date|iso3|         CountryName|Region|       lat|       lon|CumulativePositive|CumulativeDeceased|CumulativeRecovered|CurrentlyPositive|Hospitalized|IntensiveCare|EUcountry|EUCPMcountry|NUTS|\n",
            "+-------------------+----+--------------------+------+----------+----------+------------------+------------------+-------------------+-----------------+------------+-------------+---------+------------+----+\n",
            "|2020-01-03 00:00:00| AIA|            Anguilla|  null|  18.22512| -63.07213|                 0|                 0|               null|                0|        null|         null|    false|       false|  AI|\n",
            "|2020-01-03 00:00:00| DMA|            Dominica|  null| 15.416749| -61.36413|                 0|                 0|               null|                0|        null|         null|    false|       false|  DM|\n",
            "|2020-01-03 00:00:00| DOM|  Dominican Republic|  null| 18.736509|-70.161744|                 0|                 0|               null|                0|        null|         null|    false|       false|  DO|\n",
            "|2020-01-03 00:00:00| FLK|Falkland Islands ...|  null|-51.800581|-59.528839|                 0|                 0|               null|                0|        null|         null|    false|       false|  FK|\n",
            "|2020-01-03 00:00:00| IDN|           Indonesia|  null| -2.518722|118.015568|                 0|                 0|               null|                0|        null|         null|    false|       false|  ID|\n",
            "+-------------------+----+--------------------+------+----------+----------+------------------+------------------+-------------------+-----------------+------------+-------------+---------+------------+----+\n",
            "only showing top 5 rows\n",
            "\n"
          ]
        }
      ]
    },
    {
      "cell_type": "code",
      "source": [
        "\n",
        "# View information about each column\n",
        "ds.printSchema()\n"
      ],
      "metadata": {
        "id": "wMlP_2E0GBY6",
        "colab": {
          "base_uri": "https://localhost:8080/"
        },
        "outputId": "d4e861dd-486d-4d51-e49e-1e68f648366a"
      },
      "id": "wMlP_2E0GBY6",
      "execution_count": 28,
      "outputs": [
        {
          "output_type": "stream",
          "name": "stdout",
          "text": [
            "root\n",
            " |-- Date: timestamp (nullable = true)\n",
            " |-- iso3: string (nullable = true)\n",
            " |-- CountryName: string (nullable = true)\n",
            " |-- Region: string (nullable = true)\n",
            " |-- lat: double (nullable = true)\n",
            " |-- lon: double (nullable = true)\n",
            " |-- CumulativePositive: integer (nullable = true)\n",
            " |-- CumulativeDeceased: integer (nullable = true)\n",
            " |-- CumulativeRecovered: integer (nullable = true)\n",
            " |-- CurrentlyPositive: integer (nullable = true)\n",
            " |-- Hospitalized: integer (nullable = true)\n",
            " |-- IntensiveCare: integer (nullable = true)\n",
            " |-- EUcountry: boolean (nullable = true)\n",
            " |-- EUCPMcountry: boolean (nullable = true)\n",
            " |-- NUTS: string (nullable = true)\n",
            "\n"
          ]
        }
      ]
    },
    {
      "cell_type": "code",
      "source": [
        "start_time = time.time()\n",
        "\n",
        "# Serialize to generate rdd\n",
        "rdd = sc.textFile('COVID.csv')\n",
        "#rdd.first()\n",
        "\n",
        "#For every country calculate average number of curently positive patients in descending order\n",
        "covid1 = ds.groupby([\"CountryName\"])\n",
        "covid1.avg(\"CumulativePositive\").sort(desc(\"avg(CumulativePositive)\")).show()\n",
        "\n",
        "end_time = time.time()\n",
        "print(\"The program has been executed for %f seconds\"%(end_time - start_time))"
      ],
      "metadata": {
        "id": "eqyZGXTYEeZv",
        "colab": {
          "base_uri": "https://localhost:8080/"
        },
        "outputId": "77940112-cd53-4ef5-be0f-39388f2e47cb"
      },
      "id": "eqyZGXTYEeZv",
      "execution_count": 29,
      "outputs": [
        {
          "output_type": "stream",
          "name": "stdout",
          "text": [
            "+--------------------+-----------------------+\n",
            "|         CountryName|avg(CumulativePositive)|\n",
            "+--------------------+-----------------------+\n",
            "|United States of ...|    1.716260176935484E7|\n",
            "|               India|   1.1883272734527687E7|\n",
            "|              Brazil|      8696055.335051546|\n",
            "|              Turkey|     2595367.4485165793|\n",
            "|              France|     2394905.6159052453|\n",
            "|           Argentina|     1901747.2443674176|\n",
            "|            Colombia|      1873675.731707317|\n",
            "|              Mexico|     1441664.5456110155|\n",
            "|              Poland|     1420315.8845500848|\n",
            "|             Ukraine|     1164397.0800711743|\n",
            "|        South Africa|      1133636.596187175|\n",
            "|           Indonesia|     1092445.8914728682|\n",
            "|                Peru|     1080379.9668989547|\n",
            "|      Czech Republic|      831879.8876221499|\n",
            "|               Chile|      743993.1681109185|\n",
            "|                Iran|      718223.9510086456|\n",
            "|                Iraq|      680964.5938566553|\n",
            "|         Philippines|      670873.2561174552|\n",
            "|              Canada|      612455.5276872964|\n",
            "|          Bangladesh|      564628.1302083334|\n",
            "+--------------------+-----------------------+\n",
            "only showing top 20 rows\n",
            "\n",
            "The program has been executed for 1.410079 seconds\n"
          ]
        }
      ]
    },
    {
      "cell_type": "markdown",
      "source": [
        "United States of America has the highest average of active positive cases."
      ],
      "metadata": {
        "id": "VyrPNwyFAUWQ"
      },
      "id": "VyrPNwyFAUWQ"
    },
    {
      "cell_type": "markdown",
      "source": [
        "Spark doesn't implement MapReduce.\n",
        "Maps take data as input and then transform that data with whatever function you put in the map. They are like directions for the data telling how each input should get to the output."
      ],
      "metadata": {
        "id": "F0_KxGbdTLHV"
      },
      "id": "F0_KxGbdTLHV"
    },
    {
      "cell_type": "code",
      "source": [
        "ds.select('CumulativePositive').collect()\n",
        "ds.select('CumulativePositive').groupby('CumulativePositive').count().first()\n",
        "ds.describe()"
      ],
      "metadata": {
        "id": "BNIbWwk9MT8v",
        "colab": {
          "base_uri": "https://localhost:8080/"
        },
        "outputId": "bd4592b1-f675-4305-9dee-b32363f2d2f6"
      },
      "id": "BNIbWwk9MT8v",
      "execution_count": 30,
      "outputs": [
        {
          "output_type": "execute_result",
          "data": {
            "text/plain": [
              "DataFrame[summary: string, iso3: string, CountryName: string, Region: string, lat: string, lon: string, CumulativePositive: string, CumulativeDeceased: string, CumulativeRecovered: string, CurrentlyPositive: string, Hospitalized: string, IntensiveCare: string, NUTS: string]"
            ]
          },
          "metadata": {},
          "execution_count": 30
        }
      ]
    },
    {
      "cell_type": "markdown",
      "id": "d44e7cb7",
      "metadata": {
        "id": "d44e7cb7"
      },
      "source": [
        "# Dask"
      ]
    },
    {
      "cell_type": "code",
      "execution_count": 31,
      "id": "a6417e7c",
      "metadata": {
        "id": "a6417e7c",
        "colab": {
          "base_uri": "https://localhost:8080/"
        },
        "outputId": "f5f383ac-1df1-410f-c2e0-b0d7b908b10c"
      },
      "outputs": [
        {
          "output_type": "stream",
          "name": "stdout",
          "text": [
            "Looking in indexes: https://pypi.org/simple, https://us-python.pkg.dev/colab-wheels/public/simple/\n",
            "Requirement already satisfied: dask[dataframe] in /usr/local/lib/python3.8/dist-packages (2022.2.1)\n",
            "Collecting dask[dataframe]\n",
            "  Downloading dask-2022.12.1-py3-none-any.whl (1.1 MB)\n",
            "\u001b[2K     \u001b[90m━━━━━━━━━━━━━━━━━━━━━━━━━━━━━━━━━━━━━━━━\u001b[0m \u001b[32m1.1/1.1 MB\u001b[0m \u001b[31m17.4 MB/s\u001b[0m eta \u001b[36m0:00:00\u001b[0m\n",
            "\u001b[?25hRequirement already satisfied: packaging>=20.0 in /usr/local/lib/python3.8/dist-packages (from dask[dataframe]) (21.3)\n",
            "Requirement already satisfied: fsspec>=0.6.0 in /usr/local/lib/python3.8/dist-packages (from dask[dataframe]) (2022.11.0)\n",
            "Requirement already satisfied: partd>=0.3.10 in /usr/local/lib/python3.8/dist-packages (from dask[dataframe]) (1.3.0)\n",
            "Requirement already satisfied: pyyaml>=5.3.1 in /usr/local/lib/python3.8/dist-packages (from dask[dataframe]) (6.0)\n",
            "Requirement already satisfied: toolz>=0.8.2 in /usr/local/lib/python3.8/dist-packages (from dask[dataframe]) (0.12.0)\n",
            "Requirement already satisfied: click>=7.0 in /usr/local/lib/python3.8/dist-packages (from dask[dataframe]) (7.1.2)\n",
            "Requirement already satisfied: cloudpickle>=1.1.1 in /usr/local/lib/python3.8/dist-packages (from dask[dataframe]) (2.2.0)\n",
            "Requirement already satisfied: numpy>=1.18 in /usr/local/lib/python3.8/dist-packages (from dask[dataframe]) (1.21.6)\n",
            "Requirement already satisfied: pandas>=1.0 in /usr/local/lib/python3.8/dist-packages (from dask[dataframe]) (1.3.5)\n",
            "Requirement already satisfied: pyparsing!=3.0.5,>=2.0.2 in /usr/local/lib/python3.8/dist-packages (from packaging>=20.0->dask[dataframe]) (3.0.9)\n",
            "Requirement already satisfied: python-dateutil>=2.7.3 in /usr/local/lib/python3.8/dist-packages (from pandas>=1.0->dask[dataframe]) (2.8.2)\n",
            "Requirement already satisfied: pytz>=2017.3 in /usr/local/lib/python3.8/dist-packages (from pandas>=1.0->dask[dataframe]) (2022.7)\n",
            "Requirement already satisfied: locket in /usr/local/lib/python3.8/dist-packages (from partd>=0.3.10->dask[dataframe]) (1.0.0)\n",
            "Requirement already satisfied: six>=1.5 in /usr/local/lib/python3.8/dist-packages (from python-dateutil>=2.7.3->pandas>=1.0->dask[dataframe]) (1.15.0)\n",
            "Installing collected packages: dask\n",
            "  Attempting uninstall: dask\n",
            "    Found existing installation: dask 2022.2.1\n",
            "    Uninstalling dask-2022.2.1:\n",
            "      Successfully uninstalled dask-2022.2.1\n",
            "\u001b[31mERROR: pip's dependency resolver does not currently take into account all the packages that are installed. This behaviour is the source of the following dependency conflicts.\n",
            "distributed 2022.2.1 requires dask==2022.02.1, but you have dask 2022.12.1 which is incompatible.\u001b[0m\u001b[31m\n",
            "\u001b[0mSuccessfully installed dask-2022.12.1\n"
          ]
        }
      ],
      "source": [
        "!python -m pip install dask[dataframe] --upgrade"
      ]
    },
    {
      "cell_type": "code",
      "source": [
        "!pip install memory_profiler"
      ],
      "metadata": {
        "id": "_qhDFQs7aELN",
        "colab": {
          "base_uri": "https://localhost:8080/"
        },
        "outputId": "f3dd4a19-46a7-4058-b369-73ac55464f8a"
      },
      "id": "_qhDFQs7aELN",
      "execution_count": 32,
      "outputs": [
        {
          "output_type": "stream",
          "name": "stdout",
          "text": [
            "Looking in indexes: https://pypi.org/simple, https://us-python.pkg.dev/colab-wheels/public/simple/\n",
            "Collecting memory_profiler\n",
            "  Downloading memory_profiler-0.61.0-py3-none-any.whl (31 kB)\n",
            "Requirement already satisfied: psutil in /usr/local/lib/python3.8/dist-packages (from memory_profiler) (5.4.8)\n",
            "Installing collected packages: memory_profiler\n",
            "Successfully installed memory_profiler-0.61.0\n"
          ]
        }
      ]
    },
    {
      "cell_type": "code",
      "source": [
        "import warnings\n",
        "warnings.filterwarnings('ignore')"
      ],
      "metadata": {
        "id": "P4X-8KG9aIOR"
      },
      "id": "P4X-8KG9aIOR",
      "execution_count": 33,
      "outputs": []
    },
    {
      "cell_type": "code",
      "source": [
        "import dask\n",
        "import numpy as np\n",
        "import dask.array as da\n",
        "import dask.dataframe as dd\n",
        "from dask.diagnostics import ProgressBar "
      ],
      "metadata": {
        "id": "b6jnGlvkaUt7"
      },
      "id": "b6jnGlvkaUt7",
      "execution_count": 34,
      "outputs": []
    },
    {
      "cell_type": "code",
      "source": [
        "print(f\"Dask   version: {dask.__version__}\")\n",
        "print(f\"Numpy version:  {np.__version__}\")"
      ],
      "metadata": {
        "id": "p3ptXqyXaZ1T",
        "colab": {
          "base_uri": "https://localhost:8080/"
        },
        "outputId": "8770bf23-4929-4d60-e8e4-3b749f3db519"
      },
      "id": "p3ptXqyXaZ1T",
      "execution_count": 35,
      "outputs": [
        {
          "output_type": "stream",
          "name": "stdout",
          "text": [
            "Dask   version: 2022.12.1\n",
            "Numpy version:  1.21.6\n"
          ]
        }
      ]
    },
    {
      "cell_type": "code",
      "source": [
        "start_time = time.time()\n",
        "df = dd.read_csv('/content/drive/MyDrive/bda/COVID.csv', sample=25000000, dtype={'CumulativePositive': 'float64'})\n",
        "df.dtypes"
      ],
      "metadata": {
        "id": "NO-99jnPdJWa",
        "colab": {
          "base_uri": "https://localhost:8080/"
        },
        "outputId": "787820af-b0b5-4d3a-851f-abef388552e4"
      },
      "id": "NO-99jnPdJWa",
      "execution_count": 36,
      "outputs": [
        {
          "output_type": "execute_result",
          "data": {
            "text/plain": [
              "Date                    object\n",
              "iso3                    object\n",
              "CountryName             object\n",
              "Region                 float64\n",
              "lat                    float64\n",
              "lon                    float64\n",
              "CumulativePositive     float64\n",
              "CumulativeDeceased       int64\n",
              "CumulativeRecovered    float64\n",
              "CurrentlyPositive        int64\n",
              "Hospitalized           float64\n",
              "IntensiveCare          float64\n",
              "EUcountry                 bool\n",
              "EUCPMcountry              bool\n",
              "NUTS                    object\n",
              "dtype: object"
            ]
          },
          "metadata": {},
          "execution_count": 36
        }
      ]
    },
    {
      "cell_type": "markdown",
      "source": [
        "## Error if dtype={'CumulativePositive': 'float64'} is not used:\n",
        "Mismatched dtypes found in `pd.read_csv`/`pd.read_table`.\n",
        "\n",
        "+--------------------+---------+----------+\n",
        "| Column             | Found   | Expected |\n",
        "+--------------------+---------+----------+\n",
        "| CumulativePositive | float64 | int64    |\n",
        "+--------------------+---------+----------+\n",
        "\n",
        "Usually this is due to dask's dtype inference failing, and\n",
        "*may* be fixed by specifying dtypes manually by adding:\n",
        "\n",
        "dtype={'CumulativePositive': 'float64'}\n",
        "\n",
        "to the call to `read_csv`/`read_table`.\n",
        "\n",
        "Alternatively, provide `assume_missing=True` to interpret\n",
        "all unspecified integer columns as floats."
      ],
      "metadata": {
        "id": "V2w5b24yhszq"
      },
      "id": "V2w5b24yhszq"
    },
    {
      "cell_type": "markdown",
      "source": [
        "## For every country calculate average number of curently positive patients"
      ],
      "metadata": {
        "id": "gQrk3tNxd9kr"
      },
      "id": "gQrk3tNxd9kr"
    },
    {
      "cell_type": "code",
      "source": [
        "df1 = df.groupby('CountryName').CumulativePositive.mean().compute()"
      ],
      "metadata": {
        "id": "HCcPOl_CgwA3"
      },
      "id": "HCcPOl_CgwA3",
      "execution_count": 37,
      "outputs": []
    },
    {
      "cell_type": "code",
      "source": [
        "df1"
      ],
      "metadata": {
        "id": "fQw-G3wKm_r-",
        "colab": {
          "base_uri": "https://localhost:8080/"
        },
        "outputId": "3d5d5282-435c-4e73-cbd7-c89154588a44"
      },
      "id": "fQw-G3wKm_r-",
      "execution_count": 38,
      "outputs": [
        {
          "output_type": "execute_result",
          "data": {
            "text/plain": [
              "CountryName\n",
              "Afghanistan       58080.793162\n",
              "Albania            6073.133333\n",
              "Algeria           84558.510239\n",
              "American Samoa        0.000000\n",
              "Andorra            7050.146199\n",
              "                      ...     \n",
              "Western Sahara      579.110320\n",
              "Whole Globe        2134.759615\n",
              "Yemen              3610.383333\n",
              "Zambia            64268.828319\n",
              "Zimbabwe          33578.600355\n",
              "Name: CumulativePositive, Length: 221, dtype: float64"
            ]
          },
          "metadata": {},
          "execution_count": 38
        }
      ]
    },
    {
      "cell_type": "markdown",
      "source": [
        "What is the country wiht most avreage active curently positive cases?\n",
        "Solve by Dask and measure the execution time"
      ],
      "metadata": {
        "id": "zaiLMuVXeKcx"
      },
      "id": "zaiLMuVXeKcx"
    },
    {
      "cell_type": "code",
      "source": [
        "df2 = df1.sort_values() \n",
        "df2 "
      ],
      "metadata": {
        "id": "vrRd6siVmDjo",
        "colab": {
          "base_uri": "https://localhost:8080/"
        },
        "outputId": "f519d2ef-d5d1-4bad-a097-f8ff774ae685"
      },
      "id": "vrRd6siVmDjo",
      "execution_count": 39,
      "outputs": [
        {
          "output_type": "execute_result",
          "data": {
            "text/plain": [
              "CountryName\n",
              "American Samoa              0.000000e+00\n",
              "Samoa                       1.000000e+00\n",
              "Vanuatu                     2.016807e+00\n",
              "Marshall Islands            3.760956e+00\n",
              "Saint-Barthélemy            6.000000e+00\n",
              "                                ...     \n",
              "France                      2.394906e+06\n",
              "Turkey                      2.595367e+06\n",
              "Brazil                      8.696055e+06\n",
              "India                       1.188327e+07\n",
              "United States of America    1.716260e+07\n",
              "Name: CumulativePositive, Length: 221, dtype: float64"
            ]
          },
          "metadata": {},
          "execution_count": 39
        }
      ]
    },
    {
      "cell_type": "code",
      "source": [
        "df1.max()"
      ],
      "metadata": {
        "id": "wZmIBJUZn_OV",
        "colab": {
          "base_uri": "https://localhost:8080/"
        },
        "outputId": "a906c5c1-d844-4ec6-f6ef-32f4a9485481"
      },
      "id": "wZmIBJUZn_OV",
      "execution_count": 40,
      "outputs": [
        {
          "output_type": "execute_result",
          "data": {
            "text/plain": [
              "17162601.76935484"
            ]
          },
          "metadata": {},
          "execution_count": 40
        }
      ]
    },
    {
      "cell_type": "markdown",
      "source": [
        "United States of America has the highest mean average positive cases 17162601.76935484"
      ],
      "metadata": {
        "id": "wDYI9FtbrRoE"
      },
      "id": "wDYI9FtbrRoE"
    },
    {
      "cell_type": "code",
      "source": [
        "end_time = time.time()"
      ],
      "metadata": {
        "id": "hikQuV1JC9_x"
      },
      "id": "hikQuV1JC9_x",
      "execution_count": 41,
      "outputs": []
    },
    {
      "cell_type": "code",
      "source": [
        "print(\"The program has been executed for %f seconds\"%(end_time - start_time))"
      ],
      "metadata": {
        "id": "pN_QfvgYqP2B",
        "colab": {
          "base_uri": "https://localhost:8080/"
        },
        "outputId": "ad3a3e2d-b35d-46e2-f05c-b022c664e587"
      },
      "id": "pN_QfvgYqP2B",
      "execution_count": 42,
      "outputs": [
        {
          "output_type": "stream",
          "name": "stdout",
          "text": [
            "The program has been executed for 0.623794 seconds\n"
          ]
        }
      ]
    },
    {
      "cell_type": "markdown",
      "source": [
        "## Create a monte carlo integration of any function F: R - R^n."
      ],
      "metadata": {
        "id": "GPa82_BO1ZRt"
      },
      "id": "GPa82_BO1ZRt"
    },
    {
      "cell_type": "markdown",
      "source": [
        "$$\n",
        "\\int_a^b f(x) \\;dx = \\int_a^b (x^n) \\;dx\n",
        "$$\n",
        "where n is the number of samples"
      ],
      "metadata": {
        "id": "JE4n82vpzkZy"
      },
      "id": "JE4n82vpzkZy"
    },
    {
      "cell_type": "code",
      "execution_count": 43,
      "id": "b1bc5024",
      "metadata": {
        "id": "b1bc5024",
        "colab": {
          "base_uri": "https://localhost:8080/"
        },
        "outputId": "1f3fcc9e-afeb-4a82-f1a2-81e2eaefd7ce"
      },
      "outputs": [
        {
          "output_type": "stream",
          "name": "stdout",
          "text": [
            "Monte Carlo solution:  5.3332\n",
            "The Monte Carlo integration has been executed for 8.775298 seconds\n"
          ]
        }
      ],
      "source": [
        "start_time = time.time()\n",
        "def func1(x):\n",
        "    # function f(x)=x^2\n",
        "    return x**2\n",
        "  \n",
        "def mc_integrate(func, a, b, n = 100000):\n",
        "    # Monte Carlo integration between x1 and x2 of given function from a to b\n",
        "    \n",
        "    vals = np.random.uniform(a, b, n)\n",
        "    y = [func(val) for val in vals]\n",
        "    \n",
        "    y_mean = np.sum(y)/n\n",
        "    integ = (b-a) * y_mean\n",
        "    \n",
        "    return integ\n",
        "\n",
        "print(f\"Monte Carlo solution: {mc_integrate(func1, -2, 2, 20000000): .4f}\")\n",
        "end_time = time.time()\n",
        "print(\"The Monte Carlo integration has been executed for %f seconds\"%(end_time - start_time))"
      ]
    }
  ],
  "metadata": {
    "kernelspec": {
      "display_name": "dask",
      "language": "python",
      "name": "dask"
    },
    "language_info": {
      "codemirror_mode": {
        "name": "ipython",
        "version": 3
      },
      "file_extension": ".py",
      "mimetype": "text/x-python",
      "name": "python",
      "nbconvert_exporter": "python",
      "pygments_lexer": "ipython3",
      "version": "3.9.7"
    },
    "colab": {
      "provenance": [],
      "machine_shape": "hm"
    },
    "accelerator": "GPU",
    "gpuClass": "premium"
  },
  "nbformat": 4,
  "nbformat_minor": 5
}