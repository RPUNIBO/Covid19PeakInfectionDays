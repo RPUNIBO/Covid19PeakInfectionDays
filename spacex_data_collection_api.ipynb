{
  "nbformat": 4,
  "nbformat_minor": 0,
  "metadata": {
    "colab": {
      "provenance": [],
      "authorship_tag": "ABX9TyOpzLqFgikAcSZi6GvRo5v/",
      "include_colab_link": true
    },
    "kernelspec": {
      "name": "python3",
      "display_name": "Python 3"
    },
    "language_info": {
      "name": "python"
    }
  },
  "cells": [
    {
      "cell_type": "markdown",
      "metadata": {
        "id": "view-in-github",
        "colab_type": "text"
      },
      "source": [
        "<a href=\"https://colab.research.google.com/github/RPUNIBO/Covid19PeakInfectionDays/blob/main/spacex_data_collection_api.ipynb\" target=\"_parent\"><img src=\"https://colab.research.google.com/assets/colab-badge.svg\" alt=\"Open In Colab\"/></a>"
      ]
    },
    {
      "cell_type": "code",
      "execution_count": 2,
      "metadata": {
        "id": "mGBHu7EGRAkb"
      },
      "outputs": [],
      "source": [
        "import requests\n",
        "import pandas as pd\n",
        "import numpy as np\n",
        "import datetime\n",
        "\n",
        "pd.set_option('display.max_columns',None)\n",
        "pd.set_option('display.max_colwidth',None)\n",
        "\n",
        "#learn the booster name from rocket column\n",
        "def getBoosterVersion(data):\n",
        "    for x in data['rocket']:\n",
        "       if x:\n",
        "        response = requests.get(\"https://api.spacexdata.com/v4/rockets/\"+str(x)).json()\n",
        "        BoosterVersion.append(response['name'])\n",
        "\n",
        "#name of the launch site and logitude and latitude\n",
        "def getLaunchSite(data):\n",
        "  for x in data['launchpad']:\n",
        "    if x:\n",
        "      response = requests.get('https://api.spacexdata.com/v4/launchpads/'+str(x)).json()\n",
        "      Longitude.append(response['longitude'])\n",
        "      Latitude.append(response['latitude'])\n",
        "      LaunchSite.append(response['name'])\n",
        "\n",
        "#mass of payload and orbit it is going to\n",
        "def getPayloadData(data):\n",
        "  for load in data['payloads']:\n",
        "    if load:\n",
        "      response = requests.get('https://api.spacexdata.com/v4/payloads/'+load).json()\n",
        "      PayloadMass.append(response['mass_kg'])\n",
        "      Orbit.append(response['orbit'])\n",
        "\n",
        "#takes the dataset and uses the cores column to call the API and append the data to the lists\n",
        "def getCoreData(data):\n",
        "  for core in data['cores']:\n",
        "    if core['core'] != None:\n",
        "      response = requests.get(\"https://api.spacexdata.com/v4/cores/\"+core['core']).json\n",
        "      Block.append(response['block'])\n",
        "      ReusedCount.append(response['reuse_count'])\n",
        "      Serial.append(response['serial'])\n",
        "    else:\n",
        "      Block.append(None)\n",
        "      ReusedCount.append(None)\n",
        "      Serial.append(None)\n",
        "    Outcome.append(str(core['landing_success'])+' '+str(core['landing_type']))\n",
        "    Flights.append(core['flight'])\n",
        "    GridFins.append(core['gridfins'])\n",
        "    Reused.append(core['reused'])\n",
        "    Legs.append(core['legs'])\n",
        "    LandingPad.append(core['landpad'])"
      ]
    }
  ]
}